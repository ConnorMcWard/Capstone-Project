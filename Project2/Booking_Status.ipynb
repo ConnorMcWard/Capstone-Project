{
 "cells": [
  {
   "cell_type": "markdown",
   "id": "081ca347",
   "metadata": {},
   "source": [
    "# Import Libraries"
   ]
  },
  {
   "cell_type": "code",
   "execution_count": 2,
   "id": "ca5e06c7",
   "metadata": {
    "ExecuteTime": {
     "end_time": "2023-02-28T04:22:16.789243Z",
     "start_time": "2023-02-28T04:22:13.761525Z"
    }
   },
   "outputs": [
    {
     "ename": "ModuleNotFoundError",
     "evalue": "No module named 'lightgbm'",
     "output_type": "error",
     "traceback": [
      "\u001b[0;31m---------------------------------------------------------------------------\u001b[0m",
      "\u001b[0;31mModuleNotFoundError\u001b[0m                       Traceback (most recent call last)",
      "Cell \u001b[0;32mIn[2], line 15\u001b[0m\n\u001b[1;32m     12\u001b[0m \u001b[38;5;28;01mfrom\u001b[39;00m \u001b[38;5;21;01mdmba\u001b[39;00m \u001b[38;5;28;01mimport\u001b[39;00m plotDecisionTree, classificationSummary, gainsChart, liftChart\n\u001b[1;32m     14\u001b[0m \u001b[38;5;28;01mimport\u001b[39;00m \u001b[38;5;21;01mstatsmodels\u001b[39;00m\u001b[38;5;21;01m.\u001b[39;00m\u001b[38;5;21;01mapi\u001b[39;00m \u001b[38;5;28;01mas\u001b[39;00m \u001b[38;5;21;01msm\u001b[39;00m\n\u001b[0;32m---> 15\u001b[0m \u001b[38;5;28;01mimport\u001b[39;00m \u001b[38;5;21;01mlightgbm\u001b[39;00m \u001b[38;5;28;01mas\u001b[39;00m \u001b[38;5;21;01mlgb\u001b[39;00m\n\u001b[1;32m     16\u001b[0m \u001b[38;5;28;01mimport\u001b[39;00m \u001b[38;5;21;01mxgboost\u001b[39;00m \u001b[38;5;28;01mas\u001b[39;00m \u001b[38;5;21;01mxgb\u001b[39;00m\n\u001b[1;32m     17\u001b[0m \u001b[38;5;28;01mfrom\u001b[39;00m \u001b[38;5;21;01mcatboost\u001b[39;00m \u001b[38;5;28;01mimport\u001b[39;00m CatBoostClassifier\n",
      "\u001b[0;31mModuleNotFoundError\u001b[0m: No module named 'lightgbm'"
     ]
    }
   ],
   "source": [
    "from pathlib import Path\n",
    "\n",
    "import pandas as pd\n",
    "import numpy as np\n",
    "import seaborn as sns\n",
    "\n",
    "from sklearn.tree import DecisionTreeClassifier, DecisionTreeRegressor\n",
    "from sklearn.ensemble import RandomForestClassifier, GradientBoostingClassifier\n",
    "from sklearn.model_selection import train_test_split, cross_val_score, GridSearchCV\n",
    "from sklearn.metrics import accuracy_score \n",
    "from sklearn.linear_model import LogisticRegression\n",
    "\n",
    "from dmba import plotDecisionTree, classificationSummary, gainsChart, liftChart\n",
    "\n",
    "import statsmodels.api as sm\n",
    "import lightgbm as lgb\n",
    "import xgboost as xgb\n",
    "from catboost import CatBoostClassifier\n",
    "from pycaret.classification import *\n",
    "from mord import LogisticIT\n",
    "\n",
    "import matplotlib.pylab as plt\n",
    "%matplotlib inline"
   ]
  },
  {
   "cell_type": "markdown",
   "id": "54dedd3b",
   "metadata": {},
   "source": [
    "# Data Set"
   ]
  },
  {
   "cell_type": "markdown",
   "id": "59894b2d",
   "metadata": {},
   "source": [
    "## Load Data Set"
   ]
  },
  {
   "cell_type": "code",
   "execution_count": 3,
   "id": "c01472fe",
   "metadata": {
    "ExecuteTime": {
     "end_time": "2023-02-28T22:47:56.987031Z",
     "start_time": "2023-02-28T22:47:56.702259Z"
    }
   },
   "outputs": [],
   "source": [
    "import pandas as pd\n",
    "import matplotlib.pylab as plt\n",
    "%matplotlib inline"
   ]
  },
  {
   "cell_type": "code",
   "execution_count": 4,
   "id": "20686696",
   "metadata": {
    "ExecuteTime": {
     "end_time": "2023-02-28T22:47:57.975632Z",
     "start_time": "2023-02-28T22:47:57.882624Z"
    },
    "scrolled": true
   },
   "outputs": [
    {
     "data": {
      "text/html": [
       "<div>\n",
       "<style scoped>\n",
       "    .dataframe tbody tr th:only-of-type {\n",
       "        vertical-align: middle;\n",
       "    }\n",
       "\n",
       "    .dataframe tbody tr th {\n",
       "        vertical-align: top;\n",
       "    }\n",
       "\n",
       "    .dataframe thead th {\n",
       "        text-align: right;\n",
       "    }\n",
       "</style>\n",
       "<table border=\"1\" class=\"dataframe\">\n",
       "  <thead>\n",
       "    <tr style=\"text-align: right;\">\n",
       "      <th></th>\n",
       "      <th>no_of_adults</th>\n",
       "      <th>no_of_children</th>\n",
       "      <th>no_of_weekend_nights</th>\n",
       "      <th>no_of_week_nights</th>\n",
       "      <th>type_of_meal_plan</th>\n",
       "      <th>required_car_parking_space</th>\n",
       "      <th>room_type_reserved</th>\n",
       "      <th>lead_time</th>\n",
       "      <th>arrival_year</th>\n",
       "      <th>arrival_month</th>\n",
       "      <th>arrival_date</th>\n",
       "      <th>market_segment_type</th>\n",
       "      <th>repeated_guest</th>\n",
       "      <th>no_of_previous_cancellations</th>\n",
       "      <th>no_of_previous_bookings_not_canceled</th>\n",
       "      <th>avg_price_per_room</th>\n",
       "      <th>no_of_special_requests</th>\n",
       "      <th>booking_status</th>\n",
       "    </tr>\n",
       "    <tr>\n",
       "      <th>id</th>\n",
       "      <th></th>\n",
       "      <th></th>\n",
       "      <th></th>\n",
       "      <th></th>\n",
       "      <th></th>\n",
       "      <th></th>\n",
       "      <th></th>\n",
       "      <th></th>\n",
       "      <th></th>\n",
       "      <th></th>\n",
       "      <th></th>\n",
       "      <th></th>\n",
       "      <th></th>\n",
       "      <th></th>\n",
       "      <th></th>\n",
       "      <th></th>\n",
       "      <th></th>\n",
       "      <th></th>\n",
       "    </tr>\n",
       "  </thead>\n",
       "  <tbody>\n",
       "    <tr>\n",
       "      <th>0</th>\n",
       "      <td>2</td>\n",
       "      <td>0</td>\n",
       "      <td>0</td>\n",
       "      <td>2</td>\n",
       "      <td>1</td>\n",
       "      <td>0</td>\n",
       "      <td>0</td>\n",
       "      <td>9</td>\n",
       "      <td>2018</td>\n",
       "      <td>1</td>\n",
       "      <td>14</td>\n",
       "      <td>1</td>\n",
       "      <td>1</td>\n",
       "      <td>11</td>\n",
       "      <td>0</td>\n",
       "      <td>67.50</td>\n",
       "      <td>0</td>\n",
       "      <td>0</td>\n",
       "    </tr>\n",
       "    <tr>\n",
       "      <th>1</th>\n",
       "      <td>2</td>\n",
       "      <td>0</td>\n",
       "      <td>1</td>\n",
       "      <td>2</td>\n",
       "      <td>0</td>\n",
       "      <td>0</td>\n",
       "      <td>0</td>\n",
       "      <td>117</td>\n",
       "      <td>2018</td>\n",
       "      <td>7</td>\n",
       "      <td>29</td>\n",
       "      <td>0</td>\n",
       "      <td>0</td>\n",
       "      <td>0</td>\n",
       "      <td>0</td>\n",
       "      <td>72.25</td>\n",
       "      <td>0</td>\n",
       "      <td>0</td>\n",
       "    </tr>\n",
       "    <tr>\n",
       "      <th>2</th>\n",
       "      <td>2</td>\n",
       "      <td>0</td>\n",
       "      <td>0</td>\n",
       "      <td>1</td>\n",
       "      <td>0</td>\n",
       "      <td>0</td>\n",
       "      <td>0</td>\n",
       "      <td>315</td>\n",
       "      <td>2018</td>\n",
       "      <td>12</td>\n",
       "      <td>2</td>\n",
       "      <td>0</td>\n",
       "      <td>0</td>\n",
       "      <td>0</td>\n",
       "      <td>0</td>\n",
       "      <td>52.00</td>\n",
       "      <td>0</td>\n",
       "      <td>0</td>\n",
       "    </tr>\n",
       "    <tr>\n",
       "      <th>3</th>\n",
       "      <td>1</td>\n",
       "      <td>0</td>\n",
       "      <td>0</td>\n",
       "      <td>2</td>\n",
       "      <td>1</td>\n",
       "      <td>0</td>\n",
       "      <td>0</td>\n",
       "      <td>32</td>\n",
       "      <td>2018</td>\n",
       "      <td>12</td>\n",
       "      <td>1</td>\n",
       "      <td>1</td>\n",
       "      <td>0</td>\n",
       "      <td>0</td>\n",
       "      <td>0</td>\n",
       "      <td>56.00</td>\n",
       "      <td>0</td>\n",
       "      <td>0</td>\n",
       "    </tr>\n",
       "    <tr>\n",
       "      <th>4</th>\n",
       "      <td>2</td>\n",
       "      <td>0</td>\n",
       "      <td>1</td>\n",
       "      <td>0</td>\n",
       "      <td>0</td>\n",
       "      <td>0</td>\n",
       "      <td>0</td>\n",
       "      <td>258</td>\n",
       "      <td>2018</td>\n",
       "      <td>10</td>\n",
       "      <td>16</td>\n",
       "      <td>0</td>\n",
       "      <td>0</td>\n",
       "      <td>0</td>\n",
       "      <td>0</td>\n",
       "      <td>100.00</td>\n",
       "      <td>0</td>\n",
       "      <td>1</td>\n",
       "    </tr>\n",
       "    <tr>\n",
       "      <th>...</th>\n",
       "      <td>...</td>\n",
       "      <td>...</td>\n",
       "      <td>...</td>\n",
       "      <td>...</td>\n",
       "      <td>...</td>\n",
       "      <td>...</td>\n",
       "      <td>...</td>\n",
       "      <td>...</td>\n",
       "      <td>...</td>\n",
       "      <td>...</td>\n",
       "      <td>...</td>\n",
       "      <td>...</td>\n",
       "      <td>...</td>\n",
       "      <td>...</td>\n",
       "      <td>...</td>\n",
       "      <td>...</td>\n",
       "      <td>...</td>\n",
       "      <td>...</td>\n",
       "    </tr>\n",
       "    <tr>\n",
       "      <th>42095</th>\n",
       "      <td>3</td>\n",
       "      <td>0</td>\n",
       "      <td>0</td>\n",
       "      <td>4</td>\n",
       "      <td>0</td>\n",
       "      <td>0</td>\n",
       "      <td>1</td>\n",
       "      <td>160</td>\n",
       "      <td>2018</td>\n",
       "      <td>12</td>\n",
       "      <td>30</td>\n",
       "      <td>1</td>\n",
       "      <td>0</td>\n",
       "      <td>0</td>\n",
       "      <td>0</td>\n",
       "      <td>140.00</td>\n",
       "      <td>2</td>\n",
       "      <td>1</td>\n",
       "    </tr>\n",
       "    <tr>\n",
       "      <th>42096</th>\n",
       "      <td>2</td>\n",
       "      <td>0</td>\n",
       "      <td>0</td>\n",
       "      <td>3</td>\n",
       "      <td>0</td>\n",
       "      <td>0</td>\n",
       "      <td>0</td>\n",
       "      <td>34</td>\n",
       "      <td>2017</td>\n",
       "      <td>9</td>\n",
       "      <td>23</td>\n",
       "      <td>0</td>\n",
       "      <td>0</td>\n",
       "      <td>0</td>\n",
       "      <td>0</td>\n",
       "      <td>224.67</td>\n",
       "      <td>0</td>\n",
       "      <td>0</td>\n",
       "    </tr>\n",
       "    <tr>\n",
       "      <th>42097</th>\n",
       "      <td>2</td>\n",
       "      <td>0</td>\n",
       "      <td>0</td>\n",
       "      <td>2</td>\n",
       "      <td>2</td>\n",
       "      <td>0</td>\n",
       "      <td>0</td>\n",
       "      <td>292</td>\n",
       "      <td>2018</td>\n",
       "      <td>7</td>\n",
       "      <td>21</td>\n",
       "      <td>0</td>\n",
       "      <td>0</td>\n",
       "      <td>0</td>\n",
       "      <td>0</td>\n",
       "      <td>96.00</td>\n",
       "      <td>0</td>\n",
       "      <td>0</td>\n",
       "    </tr>\n",
       "    <tr>\n",
       "      <th>42098</th>\n",
       "      <td>1</td>\n",
       "      <td>0</td>\n",
       "      <td>0</td>\n",
       "      <td>3</td>\n",
       "      <td>0</td>\n",
       "      <td>0</td>\n",
       "      <td>0</td>\n",
       "      <td>5</td>\n",
       "      <td>2018</td>\n",
       "      <td>11</td>\n",
       "      <td>9</td>\n",
       "      <td>0</td>\n",
       "      <td>0</td>\n",
       "      <td>0</td>\n",
       "      <td>0</td>\n",
       "      <td>120.00</td>\n",
       "      <td>0</td>\n",
       "      <td>0</td>\n",
       "    </tr>\n",
       "    <tr>\n",
       "      <th>42099</th>\n",
       "      <td>2</td>\n",
       "      <td>0</td>\n",
       "      <td>1</td>\n",
       "      <td>1</td>\n",
       "      <td>0</td>\n",
       "      <td>0</td>\n",
       "      <td>1</td>\n",
       "      <td>40</td>\n",
       "      <td>2017</td>\n",
       "      <td>10</td>\n",
       "      <td>26</td>\n",
       "      <td>0</td>\n",
       "      <td>0</td>\n",
       "      <td>0</td>\n",
       "      <td>0</td>\n",
       "      <td>65.00</td>\n",
       "      <td>0</td>\n",
       "      <td>0</td>\n",
       "    </tr>\n",
       "  </tbody>\n",
       "</table>\n",
       "<p>42100 rows × 18 columns</p>\n",
       "</div>"
      ],
      "text/plain": [
       "       no_of_adults  no_of_children  no_of_weekend_nights  no_of_week_nights  \\\n",
       "id                                                                             \n",
       "0                 2               0                     0                  2   \n",
       "1                 2               0                     1                  2   \n",
       "2                 2               0                     0                  1   \n",
       "3                 1               0                     0                  2   \n",
       "4                 2               0                     1                  0   \n",
       "...             ...             ...                   ...                ...   \n",
       "42095             3               0                     0                  4   \n",
       "42096             2               0                     0                  3   \n",
       "42097             2               0                     0                  2   \n",
       "42098             1               0                     0                  3   \n",
       "42099             2               0                     1                  1   \n",
       "\n",
       "       type_of_meal_plan  required_car_parking_space  room_type_reserved  \\\n",
       "id                                                                         \n",
       "0                      1                           0                   0   \n",
       "1                      0                           0                   0   \n",
       "2                      0                           0                   0   \n",
       "3                      1                           0                   0   \n",
       "4                      0                           0                   0   \n",
       "...                  ...                         ...                 ...   \n",
       "42095                  0                           0                   1   \n",
       "42096                  0                           0                   0   \n",
       "42097                  2                           0                   0   \n",
       "42098                  0                           0                   0   \n",
       "42099                  0                           0                   1   \n",
       "\n",
       "       lead_time  arrival_year  arrival_month  arrival_date  \\\n",
       "id                                                            \n",
       "0              9          2018              1            14   \n",
       "1            117          2018              7            29   \n",
       "2            315          2018             12             2   \n",
       "3             32          2018             12             1   \n",
       "4            258          2018             10            16   \n",
       "...          ...           ...            ...           ...   \n",
       "42095        160          2018             12            30   \n",
       "42096         34          2017              9            23   \n",
       "42097        292          2018              7            21   \n",
       "42098          5          2018             11             9   \n",
       "42099         40          2017             10            26   \n",
       "\n",
       "       market_segment_type  repeated_guest  no_of_previous_cancellations  \\\n",
       "id                                                                         \n",
       "0                        1               1                            11   \n",
       "1                        0               0                             0   \n",
       "2                        0               0                             0   \n",
       "3                        1               0                             0   \n",
       "4                        0               0                             0   \n",
       "...                    ...             ...                           ...   \n",
       "42095                    1               0                             0   \n",
       "42096                    0               0                             0   \n",
       "42097                    0               0                             0   \n",
       "42098                    0               0                             0   \n",
       "42099                    0               0                             0   \n",
       "\n",
       "       no_of_previous_bookings_not_canceled  avg_price_per_room  \\\n",
       "id                                                                \n",
       "0                                         0               67.50   \n",
       "1                                         0               72.25   \n",
       "2                                         0               52.00   \n",
       "3                                         0               56.00   \n",
       "4                                         0              100.00   \n",
       "...                                     ...                 ...   \n",
       "42095                                     0              140.00   \n",
       "42096                                     0              224.67   \n",
       "42097                                     0               96.00   \n",
       "42098                                     0              120.00   \n",
       "42099                                     0               65.00   \n",
       "\n",
       "       no_of_special_requests  booking_status  \n",
       "id                                             \n",
       "0                           0               0  \n",
       "1                           0               0  \n",
       "2                           0               0  \n",
       "3                           0               0  \n",
       "4                           0               1  \n",
       "...                       ...             ...  \n",
       "42095                       2               1  \n",
       "42096                       0               0  \n",
       "42097                       0               0  \n",
       "42098                       0               0  \n",
       "42099                       0               0  \n",
       "\n",
       "[42100 rows x 18 columns]"
      ]
     },
     "execution_count": 4,
     "metadata": {},
     "output_type": "execute_result"
    }
   ],
   "source": [
    "data = pd.read_csv(\"train.csv\", index_col=['id'])\n",
    "test = pd.read_csv(\"test.csv\", index_col=['id'])\n",
    "data"
   ]
  },
  {
   "cell_type": "markdown",
   "id": "2b3c0c7f",
   "metadata": {},
   "source": [
    "## EDA with data set"
   ]
  },
  {
   "cell_type": "code",
   "execution_count": 5,
   "id": "0c52b039",
   "metadata": {
    "ExecuteTime": {
     "end_time": "2023-02-28T22:48:07.426623Z",
     "start_time": "2023-02-28T22:48:07.422720Z"
    }
   },
   "outputs": [
    {
     "data": {
      "text/plain": [
       "(42100, 18)"
      ]
     },
     "execution_count": 5,
     "metadata": {},
     "output_type": "execute_result"
    }
   ],
   "source": [
    "data.shape"
   ]
  },
  {
   "cell_type": "code",
   "execution_count": null,
   "id": "d91a239b",
   "metadata": {},
   "outputs": [],
   "source": [
    "data.describe()"
   ]
  },
  {
   "cell_type": "code",
   "execution_count": null,
   "id": "8c2ca2d2",
   "metadata": {},
   "outputs": [],
   "source": [
    "data.info()"
   ]
  },
  {
   "cell_type": "code",
   "execution_count": 8,
   "id": "b7012225",
   "metadata": {
    "ExecuteTime": {
     "end_time": "2023-02-28T23:01:41.679913Z",
     "start_time": "2023-02-28T23:01:41.663088Z"
    }
   },
   "outputs": [
    {
     "data": {
      "text/plain": [
       "no_of_adults                            0.0\n",
       "no_of_children                          0.0\n",
       "no_of_weekend_nights                    0.0\n",
       "no_of_week_nights                       0.0\n",
       "type_of_meal_plan                       0.0\n",
       "required_car_parking_space              0.0\n",
       "room_type_reserved                      0.0\n",
       "lead_time                               0.0\n",
       "arrival_year                            0.0\n",
       "arrival_month                           0.0\n",
       "arrival_date                            0.0\n",
       "market_segment_type                     0.0\n",
       "repeated_guest                          0.0\n",
       "no_of_previous_cancellations            0.0\n",
       "no_of_previous_bookings_not_canceled    0.0\n",
       "avg_price_per_room                      0.0\n",
       "no_of_special_requests                  0.0\n",
       "booking_status                          0.0\n",
       "dtype: float64"
      ]
     },
     "execution_count": 8,
     "metadata": {},
     "output_type": "execute_result"
    }
   ],
   "source": [
    "missing_data = data.isna().mean(axis=0)\n",
    "missing_data"
   ]
  },
  {
   "cell_type": "code",
   "execution_count": 9,
   "id": "69b306d0",
   "metadata": {
    "ExecuteTime": {
     "end_time": "2023-02-28T23:01:48.453579Z",
     "start_time": "2023-02-28T23:01:48.422584Z"
    },
    "scrolled": true
   },
   "outputs": [
    {
     "name": "stdout",
     "output_type": "stream",
     "text": [
      "-------------------------\n",
      "train:           0\n",
      "test:            253\n",
      "\n"
     ]
    }
   ],
   "source": [
    "train_dups =  data.duplicated().sum()\n",
    "test_dups = test.duplicated().sum()\n",
    "\n",
    "\n",
    "print(f'''\n",
    "train:    {train_dups}\n",
    "test:     {test_dups}\n",
    "''')"
   ]
  },
  {
   "cell_type": "code",
   "execution_count": null,
   "id": "48bd9147",
   "metadata": {},
   "outputs": [],
   "source": [
    "data['booking_status'].value_counts()"
   ]
  },
  {
   "cell_type": "code",
   "execution_count": null,
   "id": "ddad8f2b",
   "metadata": {},
   "outputs": [],
   "source": [
    "sns.boxplot(data.lead_time)"
   ]
  },
  {
   "cell_type": "code",
   "execution_count": null,
   "id": "4f9f23b0",
   "metadata": {},
   "outputs": [],
   "source": [
    "fig, ax1 = plt.subplots()\n",
    "\n",
    "ax1 = sns.barplot(x = \"arrival_month\", y = \"booking_status\", \n",
    "                  data = data.sort_values('booking_status'), palette = \"Set1\")"
   ]
  },
  {
   "cell_type": "code",
   "execution_count": null,
   "id": "666ffebf",
   "metadata": {},
   "outputs": [],
   "source": [
    "corr = data.corr()\n",
    "plt.figure(figsize=(18,18))\n",
    "sns.heatmap(corr, cmap=\"RdBu_r\", annot=True, vmax=1, vmin=-1)\n",
    "plt.show()"
   ]
  },
  {
   "cell_type": "markdown",
   "id": "7f6f8613",
   "metadata": {
    "heading_collapsed": true
   },
   "source": [
    "# Classification Models"
   ]
  },
  {
   "cell_type": "markdown",
   "id": "df99c36d",
   "metadata": {
    "heading_collapsed": true,
    "hidden": true
   },
   "source": [
    "## Test Train Split"
   ]
  },
  {
   "cell_type": "code",
   "execution_count": 4,
   "id": "b78e277b",
   "metadata": {
    "hidden": true
   },
   "outputs": [],
   "source": [
    "X = data.drop(columns=['booking_status'])\n",
    "y = data['booking_status']\n",
    "\n",
    "train_X, valid_X, train_y, valid_y = train_test_split(X, y, test_size=0.4, random_state=1)"
   ]
  },
  {
   "cell_type": "markdown",
   "id": "94ddaddf",
   "metadata": {
    "heading_collapsed": true,
    "hidden": true
   },
   "source": [
    "## Catboost"
   ]
  },
  {
   "cell_type": "markdown",
   "id": "56ca19b3",
   "metadata": {
    "hidden": true
   },
   "source": [
    "### Train Model"
   ]
  },
  {
   "cell_type": "code",
   "execution_count": 44,
   "id": "f82e5bbb",
   "metadata": {
    "hidden": true
   },
   "outputs": [
    {
     "data": {
      "text/plain": [
       "<catboost.core.CatBoostClassifier at 0x1dc99133d00>"
      ]
     },
     "execution_count": 44,
     "metadata": {},
     "output_type": "execute_result"
    }
   ],
   "source": [
    "model = CatBoostClassifier(iterations=1000,\n",
    "                           task_type=\"GPU\",\n",
    "                           devices='0:1')\n",
    "model.fit(train_X,\n",
    "          train_y,\n",
    "          verbose=False)"
   ]
  },
  {
   "cell_type": "markdown",
   "id": "3645a7ca",
   "metadata": {
    "hidden": true
   },
   "source": [
    "### Accuracy"
   ]
  },
  {
   "cell_type": "code",
   "execution_count": 45,
   "id": "bf0d2d6d",
   "metadata": {
    "hidden": true,
    "scrolled": true
   },
   "outputs": [
    {
     "name": "stdout",
     "output_type": "stream",
     "text": [
      "Confusion Matrix (Accuracy 0.8194)\n",
      "\n",
      "       Prediction\n",
      "Actual    0    1\n",
      "     0 8958 1313\n",
      "     1 1728 4841\n"
     ]
    }
   ],
   "source": [
    "classificationSummary(valid_y, model.predict(valid_X))"
   ]
  },
  {
   "cell_type": "markdown",
   "id": "ea239ef9",
   "metadata": {
    "hidden": true
   },
   "source": [
    "### Predictions"
   ]
  },
  {
   "cell_type": "code",
   "execution_count": 46,
   "id": "720afc3f",
   "metadata": {
    "hidden": true
   },
   "outputs": [],
   "source": [
    "test_pred = model.predict(test)"
   ]
  },
  {
   "cell_type": "code",
   "execution_count": 47,
   "id": "a6d49cd5",
   "metadata": {
    "hidden": true
   },
   "outputs": [],
   "source": [
    "test['booking_status'] = test_pred\n"
   ]
  },
  {
   "cell_type": "code",
   "execution_count": 48,
   "id": "c0165524",
   "metadata": {
    "hidden": true,
    "scrolled": true
   },
   "outputs": [
    {
     "data": {
      "text/html": [
       "<div>\n",
       "<style scoped>\n",
       "    .dataframe tbody tr th:only-of-type {\n",
       "        vertical-align: middle;\n",
       "    }\n",
       "\n",
       "    .dataframe tbody tr th {\n",
       "        vertical-align: top;\n",
       "    }\n",
       "\n",
       "    .dataframe thead th {\n",
       "        text-align: right;\n",
       "    }\n",
       "</style>\n",
       "<table border=\"1\" class=\"dataframe\">\n",
       "  <thead>\n",
       "    <tr style=\"text-align: right;\">\n",
       "      <th></th>\n",
       "      <th>booking_status</th>\n",
       "    </tr>\n",
       "    <tr>\n",
       "      <th>id</th>\n",
       "      <th></th>\n",
       "    </tr>\n",
       "  </thead>\n",
       "  <tbody>\n",
       "    <tr>\n",
       "      <th>42100</th>\n",
       "      <td>0</td>\n",
       "    </tr>\n",
       "    <tr>\n",
       "      <th>42101</th>\n",
       "      <td>0</td>\n",
       "    </tr>\n",
       "    <tr>\n",
       "      <th>42102</th>\n",
       "      <td>0</td>\n",
       "    </tr>\n",
       "    <tr>\n",
       "      <th>42103</th>\n",
       "      <td>0</td>\n",
       "    </tr>\n",
       "    <tr>\n",
       "      <th>42104</th>\n",
       "      <td>1</td>\n",
       "    </tr>\n",
       "    <tr>\n",
       "      <th>...</th>\n",
       "      <td>...</td>\n",
       "    </tr>\n",
       "    <tr>\n",
       "      <th>70163</th>\n",
       "      <td>1</td>\n",
       "    </tr>\n",
       "    <tr>\n",
       "      <th>70164</th>\n",
       "      <td>0</td>\n",
       "    </tr>\n",
       "    <tr>\n",
       "      <th>70165</th>\n",
       "      <td>0</td>\n",
       "    </tr>\n",
       "    <tr>\n",
       "      <th>70166</th>\n",
       "      <td>1</td>\n",
       "    </tr>\n",
       "    <tr>\n",
       "      <th>70167</th>\n",
       "      <td>1</td>\n",
       "    </tr>\n",
       "  </tbody>\n",
       "</table>\n",
       "<p>28068 rows × 1 columns</p>\n",
       "</div>"
      ],
      "text/plain": [
       "       booking_status\n",
       "id                   \n",
       "42100               0\n",
       "42101               0\n",
       "42102               0\n",
       "42103               0\n",
       "42104               1\n",
       "...               ...\n",
       "70163               1\n",
       "70164               0\n",
       "70165               0\n",
       "70166               1\n",
       "70167               1\n",
       "\n",
       "[28068 rows x 1 columns]"
      ]
     },
     "execution_count": 48,
     "metadata": {},
     "output_type": "execute_result"
    }
   ],
   "source": [
    "test_prediction_df = pd.DataFrame(test, columns=['booking_status'])\n",
    "test_prediction_df"
   ]
  },
  {
   "cell_type": "code",
   "execution_count": 49,
   "id": "f56960a5",
   "metadata": {
    "hidden": true
   },
   "outputs": [],
   "source": [
    "test_prediction_df.to_csv('cat_test_prediction.csv')"
   ]
  },
  {
   "cell_type": "markdown",
   "id": "a6d00134",
   "metadata": {
    "heading_collapsed": true,
    "hidden": true
   },
   "source": [
    "## Lightgbm"
   ]
  },
  {
   "cell_type": "markdown",
   "id": "f94011dc",
   "metadata": {
    "hidden": true
   },
   "source": [
    "### Train Model"
   ]
  },
  {
   "cell_type": "code",
   "execution_count": 57,
   "id": "9f3c1e6c",
   "metadata": {
    "hidden": true
   },
   "outputs": [],
   "source": [
    "lgb_train = lgb.Dataset(train_X, train_y)\n",
    "lgb_eval = lgb.Dataset(valid_X, valid_y, reference=lgb_train)"
   ]
  },
  {
   "cell_type": "code",
   "execution_count": 60,
   "id": "90bb6d06",
   "metadata": {
    "hidden": true
   },
   "outputs": [],
   "source": [
    "params = {\n",
    "    'boosting_type': 'gbdt',\n",
    "    'objective': 'binary'#,\n",
    "#     'num_boost_round':20,\n",
    "#     'valid_sets':lgb_eval,\n",
    "#     'callback':lgb.early_stopping(stopping_rounds=10)\n",
    "}"
   ]
  },
  {
   "cell_type": "code",
   "execution_count": 62,
   "id": "8c1a6bf2",
   "metadata": {
    "hidden": true
   },
   "outputs": [
    {
     "name": "stdout",
     "output_type": "stream",
     "text": [
      "[LightGBM] [Info] Number of positive: 9935, number of negative: 15325\n",
      "[LightGBM] [Warning] Auto-choosing row-wise multi-threading, the overhead of testing was 0.000990 seconds.\n",
      "You can set `force_row_wise=true` to remove the overhead.\n",
      "And if memory is not enough, you can set `force_col_wise=true`.\n",
      "[LightGBM] [Info] Total Bins 650\n",
      "[LightGBM] [Info] Number of data points in the train set: 25260, number of used features: 17\n",
      "[LightGBM] [Info] [binary:BoostFromScore]: pavg=0.393310 -> initscore=-0.433422\n",
      "[LightGBM] [Info] Start training from score -0.433422\n"
     ]
    }
   ],
   "source": [
    "# train\n",
    "gbm = lgb.train(params, lgb_train)"
   ]
  },
  {
   "cell_type": "code",
   "execution_count": 63,
   "id": "853194f1",
   "metadata": {
    "hidden": true
   },
   "outputs": [],
   "source": [
    "y_pred = gbm.predict(valid_X, num_iteration=gbm.best_iteration)"
   ]
  },
  {
   "cell_type": "markdown",
   "id": "a2990ed3",
   "metadata": {
    "hidden": true
   },
   "source": [
    "### Accuracy"
   ]
  },
  {
   "cell_type": "code",
   "execution_count": 64,
   "id": "e649ea05",
   "metadata": {
    "hidden": true
   },
   "outputs": [
    {
     "ename": "ValueError",
     "evalue": "Classification metrics can't handle a mix of binary and continuous targets",
     "output_type": "error",
     "traceback": [
      "\u001b[1;31m---------------------------------------------------------------------------\u001b[0m",
      "\u001b[1;31mValueError\u001b[0m                                Traceback (most recent call last)",
      "\u001b[1;32m~\\AppData\\Local\\Temp/ipykernel_2156/3946339561.py\u001b[0m in \u001b[0;36m<module>\u001b[1;34m\u001b[0m\n\u001b[1;32m----> 1\u001b[1;33m \u001b[0mclassificationSummary\u001b[0m\u001b[1;33m(\u001b[0m\u001b[0mvalid_y\u001b[0m\u001b[1;33m,\u001b[0m \u001b[0my_pred\u001b[0m\u001b[1;33m)\u001b[0m\u001b[1;33m\u001b[0m\u001b[1;33m\u001b[0m\u001b[0m\n\u001b[0m",
      "\u001b[1;32m~\\AppData\\Roaming\\Python\\Python310\\site-packages\\dmba\\metric.py\u001b[0m in \u001b[0;36mclassificationSummary\u001b[1;34m(y_true, y_pred, class_names)\u001b[0m\n\u001b[0;32m    102\u001b[0m         \u001b[0mclass_names\u001b[0m \u001b[1;33m(\u001b[0m\u001b[0moptional\u001b[0m\u001b[1;33m)\u001b[0m\u001b[1;33m:\u001b[0m \u001b[0mlist\u001b[0m \u001b[0mof\u001b[0m \u001b[1;32mclass\u001b[0m \u001b[0mnames\u001b[0m\u001b[1;33m\u001b[0m\u001b[1;33m\u001b[0m\u001b[0m\n\u001b[0;32m    103\u001b[0m     \"\"\"\n\u001b[1;32m--> 104\u001b[1;33m     \u001b[0mconfusionMatrix\u001b[0m \u001b[1;33m=\u001b[0m \u001b[0mconfusion_matrix\u001b[0m\u001b[1;33m(\u001b[0m\u001b[0my_true\u001b[0m\u001b[1;33m,\u001b[0m \u001b[0my_pred\u001b[0m\u001b[1;33m)\u001b[0m\u001b[1;33m\u001b[0m\u001b[1;33m\u001b[0m\u001b[0m\n\u001b[0m\u001b[0;32m    105\u001b[0m     \u001b[0maccuracy\u001b[0m \u001b[1;33m=\u001b[0m \u001b[0maccuracy_score\u001b[0m\u001b[1;33m(\u001b[0m\u001b[0my_true\u001b[0m\u001b[1;33m,\u001b[0m \u001b[0my_pred\u001b[0m\u001b[1;33m)\u001b[0m\u001b[1;33m\u001b[0m\u001b[1;33m\u001b[0m\u001b[0m\n\u001b[0;32m    106\u001b[0m \u001b[1;33m\u001b[0m\u001b[0m\n",
      "\u001b[1;32m~\\AppData\\Roaming\\Python\\Python310\\site-packages\\sklearn\\metrics\\_classification.py\u001b[0m in \u001b[0;36mconfusion_matrix\u001b[1;34m(y_true, y_pred, labels, sample_weight, normalize)\u001b[0m\n\u001b[0;32m    315\u001b[0m     \u001b[1;33m(\u001b[0m\u001b[1;36m0\u001b[0m\u001b[1;33m,\u001b[0m \u001b[1;36m2\u001b[0m\u001b[1;33m,\u001b[0m \u001b[1;36m1\u001b[0m\u001b[1;33m,\u001b[0m \u001b[1;36m1\u001b[0m\u001b[1;33m)\u001b[0m\u001b[1;33m\u001b[0m\u001b[1;33m\u001b[0m\u001b[0m\n\u001b[0;32m    316\u001b[0m     \"\"\"\n\u001b[1;32m--> 317\u001b[1;33m     \u001b[0my_type\u001b[0m\u001b[1;33m,\u001b[0m \u001b[0my_true\u001b[0m\u001b[1;33m,\u001b[0m \u001b[0my_pred\u001b[0m \u001b[1;33m=\u001b[0m \u001b[0m_check_targets\u001b[0m\u001b[1;33m(\u001b[0m\u001b[0my_true\u001b[0m\u001b[1;33m,\u001b[0m \u001b[0my_pred\u001b[0m\u001b[1;33m)\u001b[0m\u001b[1;33m\u001b[0m\u001b[1;33m\u001b[0m\u001b[0m\n\u001b[0m\u001b[0;32m    318\u001b[0m     \u001b[1;32mif\u001b[0m \u001b[0my_type\u001b[0m \u001b[1;32mnot\u001b[0m \u001b[1;32min\u001b[0m \u001b[1;33m(\u001b[0m\u001b[1;34m\"binary\"\u001b[0m\u001b[1;33m,\u001b[0m \u001b[1;34m\"multiclass\"\u001b[0m\u001b[1;33m)\u001b[0m\u001b[1;33m:\u001b[0m\u001b[1;33m\u001b[0m\u001b[1;33m\u001b[0m\u001b[0m\n\u001b[0;32m    319\u001b[0m         \u001b[1;32mraise\u001b[0m \u001b[0mValueError\u001b[0m\u001b[1;33m(\u001b[0m\u001b[1;34m\"%s is not supported\"\u001b[0m \u001b[1;33m%\u001b[0m \u001b[0my_type\u001b[0m\u001b[1;33m)\u001b[0m\u001b[1;33m\u001b[0m\u001b[1;33m\u001b[0m\u001b[0m\n",
      "\u001b[1;32m~\\AppData\\Roaming\\Python\\Python310\\site-packages\\sklearn\\metrics\\_classification.py\u001b[0m in \u001b[0;36m_check_targets\u001b[1;34m(y_true, y_pred)\u001b[0m\n\u001b[0;32m     93\u001b[0m \u001b[1;33m\u001b[0m\u001b[0m\n\u001b[0;32m     94\u001b[0m     \u001b[1;32mif\u001b[0m \u001b[0mlen\u001b[0m\u001b[1;33m(\u001b[0m\u001b[0my_type\u001b[0m\u001b[1;33m)\u001b[0m \u001b[1;33m>\u001b[0m \u001b[1;36m1\u001b[0m\u001b[1;33m:\u001b[0m\u001b[1;33m\u001b[0m\u001b[1;33m\u001b[0m\u001b[0m\n\u001b[1;32m---> 95\u001b[1;33m         raise ValueError(\n\u001b[0m\u001b[0;32m     96\u001b[0m             \"Classification metrics can't handle a mix of {0} and {1} targets\".format(\n\u001b[0;32m     97\u001b[0m                 \u001b[0mtype_true\u001b[0m\u001b[1;33m,\u001b[0m \u001b[0mtype_pred\u001b[0m\u001b[1;33m\u001b[0m\u001b[1;33m\u001b[0m\u001b[0m\n",
      "\u001b[1;31mValueError\u001b[0m: Classification metrics can't handle a mix of binary and continuous targets"
     ]
    }
   ],
   "source": [
    "classificationSummary(valid_y, y_pred)"
   ]
  },
  {
   "cell_type": "markdown",
   "id": "37765118",
   "metadata": {
    "heading_collapsed": true,
    "hidden": true
   },
   "source": [
    "## Decision Trees"
   ]
  },
  {
   "cell_type": "markdown",
   "id": "9b1f9db4",
   "metadata": {
    "hidden": true
   },
   "source": [
    "### Train Model"
   ]
  },
  {
   "cell_type": "code",
   "execution_count": null,
   "id": "ce519165",
   "metadata": {
    "hidden": true
   },
   "outputs": [],
   "source": [
    "# Grow full classification tree using training partition.\n",
    "fullClassTree = DecisionTreeClassifier()\n",
    "fullClassTree.fit(train_X, train_y)"
   ]
  },
  {
   "cell_type": "markdown",
   "id": "428f9406",
   "metadata": {
    "hidden": true
   },
   "source": [
    "### Accuracy"
   ]
  },
  {
   "cell_type": "code",
   "execution_count": null,
   "id": "3a19789f",
   "metadata": {
    "hidden": true
   },
   "outputs": [],
   "source": [
    "print('Training Partition')\n",
    "classificationSummary(train_y, fullClassTree.predict(train_X))\n",
    "\n",
    "print()\n",
    "print('Validation Partition')\n",
    "classificationSummary(valid_y, fullClassTree.predict(valid_X))"
   ]
  },
  {
   "cell_type": "markdown",
   "id": "988b5638",
   "metadata": {
    "hidden": true
   },
   "source": [
    "### Find and Train Best Model"
   ]
  },
  {
   "cell_type": "code",
   "execution_count": null,
   "id": "763dd33d",
   "metadata": {
    "hidden": true,
    "scrolled": true
   },
   "outputs": [],
   "source": [
    "treeClassifier = DecisionTreeClassifier()\n",
    "\n",
    "scores = cross_val_score(treeClassifier, train_X, train_y, cv=5)\n",
    "\n",
    "print('Performance Accuracy of 5-Fold Cross-Validation')\n",
    "print('Accuracy scores of each fold: ', [f'{acc:.3f}' for acc in scores])\n",
    "\n",
    "print()\n",
    "print('Two Standard Deviation (95%) Confidence Interval for Mean Accuracy')\n",
    "print(f'Accuracy: {scores.mean():.3f} (+/- {scores.std() * 2:.3f})')"
   ]
  },
  {
   "cell_type": "code",
   "execution_count": null,
   "id": "2a378ddf",
   "metadata": {
    "hidden": true
   },
   "outputs": [],
   "source": [
    "param_grid = {\n",
    "    'max_depth': [5, 7, 10, 20],  \n",
    "    'min_impurity_decrease': [0, 0.0005, 0.001, 0.005, 0.01], \n",
    "    'min_samples_split': [.5, 1, 5, 10, 15, 20, 40],\n",
    "}\n",
    "\n",
    "gridSearch_init = GridSearchCV(DecisionTreeClassifier(), \n",
    "                   param_grid, cv=5, n_jobs=-1)\n",
    "gridSearch_init.fit(train_X, train_y)\n",
    "\n",
    "print(f'Initial score:{gridSearch_init.best_score_:.4f}')\n",
    "print('Initial parameters: ', gridSearch_init.best_params_)"
   ]
  },
  {
   "cell_type": "code",
   "execution_count": null,
   "id": "8c4023c7",
   "metadata": {
    "hidden": true
   },
   "outputs": [],
   "source": [
    "param_grid = {\n",
    "    'max_depth': list(range(2, 20)),  \n",
    "    'min_impurity_decrease': [0.0001,0.0002, 0.0003, 0.0004, 0.0005,0.0007, 0.0007, 0.001], \n",
    "    'min_samples_split': [.5,.6,.7,.8,.9,1,2,3,4],\n",
    "}\n",
    "\n",
    "gridSearch = GridSearchCV(DecisionTreeClassifier(), \n",
    "                param_grid, cv=5, n_jobs=-1)\n",
    "gridSearch.fit(train_X, train_y)\n",
    "\n",
    "print()\n",
    "print(f'Improved score:{gridSearch.best_score_:.4f}')\n",
    "print('Improved parameters: ', gridSearch.best_params_)"
   ]
  },
  {
   "cell_type": "code",
   "execution_count": null,
   "id": "0624351c",
   "metadata": {
    "hidden": true
   },
   "outputs": [],
   "source": [
    "bestClassTree = gridSearch.best_estimator_"
   ]
  },
  {
   "cell_type": "markdown",
   "id": "e6984584",
   "metadata": {
    "hidden": true
   },
   "source": [
    "### Accuracy"
   ]
  },
  {
   "cell_type": "code",
   "execution_count": null,
   "id": "62967212",
   "metadata": {
    "hidden": true,
    "scrolled": true
   },
   "outputs": [],
   "source": [
    "print('Training Partition')\n",
    "classificationSummary(train_y, bestClassTree.predict(train_X))\n",
    "\n",
    "print()\n",
    "print('Validation Partition')\n",
    "classificationSummary(valid_y, bestClassTree.predict(valid_X))"
   ]
  },
  {
   "cell_type": "code",
   "execution_count": null,
   "id": "528d1f86",
   "metadata": {
    "hidden": true,
    "scrolled": true
   },
   "outputs": [],
   "source": [
    "pred_best_tree = bestClassTree.predict(test)"
   ]
  },
  {
   "cell_type": "code",
   "execution_count": null,
   "id": "cced3f1e",
   "metadata": {
    "hidden": true
   },
   "outputs": [],
   "source": [
    "pred_best_tree"
   ]
  },
  {
   "cell_type": "markdown",
   "id": "d304cc2b",
   "metadata": {
    "heading_collapsed": true,
    "hidden": true
   },
   "source": [
    "## XGBoost"
   ]
  },
  {
   "cell_type": "code",
   "execution_count": 28,
   "id": "b2012834",
   "metadata": {
    "hidden": true
   },
   "outputs": [],
   "source": [
    "xgb_cl = xgb.XGBClassifier()"
   ]
  },
  {
   "cell_type": "markdown",
   "id": "27c61a96",
   "metadata": {
    "hidden": true
   },
   "source": [
    "### Train Model"
   ]
  },
  {
   "cell_type": "code",
   "execution_count": 30,
   "id": "fb435b8d",
   "metadata": {
    "hidden": true,
    "scrolled": true
   },
   "outputs": [
    {
     "data": {
      "text/html": [
       "<style>#sk-container-id-6 {color: black;background-color: white;}#sk-container-id-6 pre{padding: 0;}#sk-container-id-6 div.sk-toggleable {background-color: white;}#sk-container-id-6 label.sk-toggleable__label {cursor: pointer;display: block;width: 100%;margin-bottom: 0;padding: 0.3em;box-sizing: border-box;text-align: center;}#sk-container-id-6 label.sk-toggleable__label-arrow:before {content: \"▸\";float: left;margin-right: 0.25em;color: #696969;}#sk-container-id-6 label.sk-toggleable__label-arrow:hover:before {color: black;}#sk-container-id-6 div.sk-estimator:hover label.sk-toggleable__label-arrow:before {color: black;}#sk-container-id-6 div.sk-toggleable__content {max-height: 0;max-width: 0;overflow: hidden;text-align: left;background-color: #f0f8ff;}#sk-container-id-6 div.sk-toggleable__content pre {margin: 0.2em;color: black;border-radius: 0.25em;background-color: #f0f8ff;}#sk-container-id-6 input.sk-toggleable__control:checked~div.sk-toggleable__content {max-height: 200px;max-width: 100%;overflow: auto;}#sk-container-id-6 input.sk-toggleable__control:checked~label.sk-toggleable__label-arrow:before {content: \"▾\";}#sk-container-id-6 div.sk-estimator input.sk-toggleable__control:checked~label.sk-toggleable__label {background-color: #d4ebff;}#sk-container-id-6 div.sk-label input.sk-toggleable__control:checked~label.sk-toggleable__label {background-color: #d4ebff;}#sk-container-id-6 input.sk-hidden--visually {border: 0;clip: rect(1px 1px 1px 1px);clip: rect(1px, 1px, 1px, 1px);height: 1px;margin: -1px;overflow: hidden;padding: 0;position: absolute;width: 1px;}#sk-container-id-6 div.sk-estimator {font-family: monospace;background-color: #f0f8ff;border: 1px dotted black;border-radius: 0.25em;box-sizing: border-box;margin-bottom: 0.5em;}#sk-container-id-6 div.sk-estimator:hover {background-color: #d4ebff;}#sk-container-id-6 div.sk-parallel-item::after {content: \"\";width: 100%;border-bottom: 1px solid gray;flex-grow: 1;}#sk-container-id-6 div.sk-label:hover label.sk-toggleable__label {background-color: #d4ebff;}#sk-container-id-6 div.sk-serial::before {content: \"\";position: absolute;border-left: 1px solid gray;box-sizing: border-box;top: 0;bottom: 0;left: 50%;z-index: 0;}#sk-container-id-6 div.sk-serial {display: flex;flex-direction: column;align-items: center;background-color: white;padding-right: 0.2em;padding-left: 0.2em;position: relative;}#sk-container-id-6 div.sk-item {position: relative;z-index: 1;}#sk-container-id-6 div.sk-parallel {display: flex;align-items: stretch;justify-content: center;background-color: white;position: relative;}#sk-container-id-6 div.sk-item::before, #sk-container-id-6 div.sk-parallel-item::before {content: \"\";position: absolute;border-left: 1px solid gray;box-sizing: border-box;top: 0;bottom: 0;left: 50%;z-index: -1;}#sk-container-id-6 div.sk-parallel-item {display: flex;flex-direction: column;z-index: 1;position: relative;background-color: white;}#sk-container-id-6 div.sk-parallel-item:first-child::after {align-self: flex-end;width: 50%;}#sk-container-id-6 div.sk-parallel-item:last-child::after {align-self: flex-start;width: 50%;}#sk-container-id-6 div.sk-parallel-item:only-child::after {width: 0;}#sk-container-id-6 div.sk-dashed-wrapped {border: 1px dashed gray;margin: 0 0.4em 0.5em 0.4em;box-sizing: border-box;padding-bottom: 0.4em;background-color: white;}#sk-container-id-6 div.sk-label label {font-family: monospace;font-weight: bold;display: inline-block;line-height: 1.2em;}#sk-container-id-6 div.sk-label-container {text-align: center;}#sk-container-id-6 div.sk-container {/* jupyter's `normalize.less` sets `[hidden] { display: none; }` but bootstrap.min.css set `[hidden] { display: none !important; }` so we also need the `!important` here to be able to override the default hidden behavior on the sphinx rendered scikit-learn.org. See: https://github.com/scikit-learn/scikit-learn/issues/21755 */display: inline-block !important;position: relative;}#sk-container-id-6 div.sk-text-repr-fallback {display: none;}</style><div id=\"sk-container-id-6\" class=\"sk-top-container\"><div class=\"sk-text-repr-fallback\"><pre>XGBClassifier(base_score=None, booster=None, callbacks=None,\n",
       "              colsample_bylevel=None, colsample_bynode=None,\n",
       "              colsample_bytree=None, early_stopping_rounds=None,\n",
       "              enable_categorical=False, eval_metric=None, feature_types=None,\n",
       "              gamma=None, gpu_id=None, grow_policy=None, importance_type=None,\n",
       "              interaction_constraints=None, learning_rate=None, max_bin=None,\n",
       "              max_cat_threshold=None, max_cat_to_onehot=None,\n",
       "              max_delta_step=None, max_depth=None, max_leaves=None,\n",
       "              min_child_weight=None, missing=nan, monotone_constraints=None,\n",
       "              n_estimators=100, n_jobs=None, num_parallel_tree=None,\n",
       "              predictor=None, random_state=None, ...)</pre><b>In a Jupyter environment, please rerun this cell to show the HTML representation or trust the notebook. <br />On GitHub, the HTML representation is unable to render, please try loading this page with nbviewer.org.</b></div><div class=\"sk-container\" hidden><div class=\"sk-item\"><div class=\"sk-estimator sk-toggleable\"><input class=\"sk-toggleable__control sk-hidden--visually\" id=\"sk-estimator-id-6\" type=\"checkbox\" checked><label for=\"sk-estimator-id-6\" class=\"sk-toggleable__label sk-toggleable__label-arrow\">XGBClassifier</label><div class=\"sk-toggleable__content\"><pre>XGBClassifier(base_score=None, booster=None, callbacks=None,\n",
       "              colsample_bylevel=None, colsample_bynode=None,\n",
       "              colsample_bytree=None, early_stopping_rounds=None,\n",
       "              enable_categorical=False, eval_metric=None, feature_types=None,\n",
       "              gamma=None, gpu_id=None, grow_policy=None, importance_type=None,\n",
       "              interaction_constraints=None, learning_rate=None, max_bin=None,\n",
       "              max_cat_threshold=None, max_cat_to_onehot=None,\n",
       "              max_delta_step=None, max_depth=None, max_leaves=None,\n",
       "              min_child_weight=None, missing=nan, monotone_constraints=None,\n",
       "              n_estimators=100, n_jobs=None, num_parallel_tree=None,\n",
       "              predictor=None, random_state=None, ...)</pre></div></div></div></div></div>"
      ],
      "text/plain": [
       "XGBClassifier(base_score=None, booster=None, callbacks=None,\n",
       "              colsample_bylevel=None, colsample_bynode=None,\n",
       "              colsample_bytree=None, early_stopping_rounds=None,\n",
       "              enable_categorical=False, eval_metric=None, feature_types=None,\n",
       "              gamma=None, gpu_id=None, grow_policy=None, importance_type=None,\n",
       "              interaction_constraints=None, learning_rate=None, max_bin=None,\n",
       "              max_cat_threshold=None, max_cat_to_onehot=None,\n",
       "              max_delta_step=None, max_depth=None, max_leaves=None,\n",
       "              min_child_weight=None, missing=nan, monotone_constraints=None,\n",
       "              n_estimators=100, n_jobs=None, num_parallel_tree=None,\n",
       "              predictor=None, random_state=None, ...)"
      ]
     },
     "execution_count": 30,
     "metadata": {},
     "output_type": "execute_result"
    }
   ],
   "source": [
    "xgb_cl.fit(train_X, train_y)"
   ]
  },
  {
   "cell_type": "code",
   "execution_count": 34,
   "id": "945d6c71",
   "metadata": {
    "hidden": true
   },
   "outputs": [],
   "source": [
    "preds = xgb_cl.predict(valid_X)"
   ]
  },
  {
   "cell_type": "markdown",
   "id": "8b7a1de6",
   "metadata": {
    "hidden": true
   },
   "source": [
    "### Accuracy"
   ]
  },
  {
   "cell_type": "code",
   "execution_count": 35,
   "id": "f1a57efe",
   "metadata": {
    "hidden": true
   },
   "outputs": [
    {
     "data": {
      "text/plain": [
       "0.8229216152019002"
      ]
     },
     "execution_count": 35,
     "metadata": {},
     "output_type": "execute_result"
    }
   ],
   "source": [
    "accuracy_score(valid_y, preds)"
   ]
  },
  {
   "cell_type": "markdown",
   "id": "e45cf83f",
   "metadata": {
    "hidden": true
   },
   "source": [
    "### Predictions"
   ]
  },
  {
   "cell_type": "code",
   "execution_count": null,
   "id": "bdcd630a",
   "metadata": {
    "hidden": true
   },
   "outputs": [],
   "source": [
    "test_preds = xgb_cl.predict(test)\n",
    "test_preds"
   ]
  },
  {
   "cell_type": "code",
   "execution_count": null,
   "id": "b3a0deb0",
   "metadata": {
    "hidden": true
   },
   "outputs": [],
   "source": [
    "test_prediction_df = pd.DataFrame(test, columns=['booking_status'])\n",
    "test_prediction_df"
   ]
  },
  {
   "cell_type": "code",
   "execution_count": null,
   "id": "080f0904",
   "metadata": {
    "hidden": true
   },
   "outputs": [],
   "source": [
    "# test_prediction_df.to_csv('test_prediction.csv')"
   ]
  },
  {
   "cell_type": "markdown",
   "id": "26b9bb48",
   "metadata": {
    "heading_collapsed": true,
    "hidden": true
   },
   "source": [
    "## XGBoost Part 2 - Tweaking Parameters"
   ]
  },
  {
   "cell_type": "code",
   "execution_count": 39,
   "id": "cac7f899",
   "metadata": {
    "hidden": true
   },
   "outputs": [],
   "source": [
    "params = {\n",
    "            \"objective\": \"binary:logitraw\",\n",
    "            \"eval_metric\": \"auc\",\n",
    "            'booster': 'gbtree',\n",
    "            'n_estimators': 5000,\n",
    "            'max_depth' : 5, \n",
    "            'eta':  0.02465211760946184, \n",
    "            'random_state': 33333,\n",
    "            \"scale_pos_weight\": 1, \n",
    "            'subsample': 0.8807634510839019,\n",
    "            'sampling_method': 'uniform', \n",
    "            'colsample_bytree':0.7615746338125093, \n",
    "            'colsample_bylevel': 0.9190448386294816,\n",
    "            'colsample_bynode': 0.9190448386294816,\n",
    "\n",
    "}"
   ]
  },
  {
   "cell_type": "code",
   "execution_count": 40,
   "id": "44af4242",
   "metadata": {
    "hidden": true
   },
   "outputs": [],
   "source": [
    "xgb_cl = xgb.XGBClassifier(**params)"
   ]
  },
  {
   "cell_type": "code",
   "execution_count": 41,
   "id": "98a37b62",
   "metadata": {
    "hidden": true
   },
   "outputs": [
    {
     "data": {
      "text/html": [
       "<style>#sk-container-id-7 {color: black;background-color: white;}#sk-container-id-7 pre{padding: 0;}#sk-container-id-7 div.sk-toggleable {background-color: white;}#sk-container-id-7 label.sk-toggleable__label {cursor: pointer;display: block;width: 100%;margin-bottom: 0;padding: 0.3em;box-sizing: border-box;text-align: center;}#sk-container-id-7 label.sk-toggleable__label-arrow:before {content: \"▸\";float: left;margin-right: 0.25em;color: #696969;}#sk-container-id-7 label.sk-toggleable__label-arrow:hover:before {color: black;}#sk-container-id-7 div.sk-estimator:hover label.sk-toggleable__label-arrow:before {color: black;}#sk-container-id-7 div.sk-toggleable__content {max-height: 0;max-width: 0;overflow: hidden;text-align: left;background-color: #f0f8ff;}#sk-container-id-7 div.sk-toggleable__content pre {margin: 0.2em;color: black;border-radius: 0.25em;background-color: #f0f8ff;}#sk-container-id-7 input.sk-toggleable__control:checked~div.sk-toggleable__content {max-height: 200px;max-width: 100%;overflow: auto;}#sk-container-id-7 input.sk-toggleable__control:checked~label.sk-toggleable__label-arrow:before {content: \"▾\";}#sk-container-id-7 div.sk-estimator input.sk-toggleable__control:checked~label.sk-toggleable__label {background-color: #d4ebff;}#sk-container-id-7 div.sk-label input.sk-toggleable__control:checked~label.sk-toggleable__label {background-color: #d4ebff;}#sk-container-id-7 input.sk-hidden--visually {border: 0;clip: rect(1px 1px 1px 1px);clip: rect(1px, 1px, 1px, 1px);height: 1px;margin: -1px;overflow: hidden;padding: 0;position: absolute;width: 1px;}#sk-container-id-7 div.sk-estimator {font-family: monospace;background-color: #f0f8ff;border: 1px dotted black;border-radius: 0.25em;box-sizing: border-box;margin-bottom: 0.5em;}#sk-container-id-7 div.sk-estimator:hover {background-color: #d4ebff;}#sk-container-id-7 div.sk-parallel-item::after {content: \"\";width: 100%;border-bottom: 1px solid gray;flex-grow: 1;}#sk-container-id-7 div.sk-label:hover label.sk-toggleable__label {background-color: #d4ebff;}#sk-container-id-7 div.sk-serial::before {content: \"\";position: absolute;border-left: 1px solid gray;box-sizing: border-box;top: 0;bottom: 0;left: 50%;z-index: 0;}#sk-container-id-7 div.sk-serial {display: flex;flex-direction: column;align-items: center;background-color: white;padding-right: 0.2em;padding-left: 0.2em;position: relative;}#sk-container-id-7 div.sk-item {position: relative;z-index: 1;}#sk-container-id-7 div.sk-parallel {display: flex;align-items: stretch;justify-content: center;background-color: white;position: relative;}#sk-container-id-7 div.sk-item::before, #sk-container-id-7 div.sk-parallel-item::before {content: \"\";position: absolute;border-left: 1px solid gray;box-sizing: border-box;top: 0;bottom: 0;left: 50%;z-index: -1;}#sk-container-id-7 div.sk-parallel-item {display: flex;flex-direction: column;z-index: 1;position: relative;background-color: white;}#sk-container-id-7 div.sk-parallel-item:first-child::after {align-self: flex-end;width: 50%;}#sk-container-id-7 div.sk-parallel-item:last-child::after {align-self: flex-start;width: 50%;}#sk-container-id-7 div.sk-parallel-item:only-child::after {width: 0;}#sk-container-id-7 div.sk-dashed-wrapped {border: 1px dashed gray;margin: 0 0.4em 0.5em 0.4em;box-sizing: border-box;padding-bottom: 0.4em;background-color: white;}#sk-container-id-7 div.sk-label label {font-family: monospace;font-weight: bold;display: inline-block;line-height: 1.2em;}#sk-container-id-7 div.sk-label-container {text-align: center;}#sk-container-id-7 div.sk-container {/* jupyter's `normalize.less` sets `[hidden] { display: none; }` but bootstrap.min.css set `[hidden] { display: none !important; }` so we also need the `!important` here to be able to override the default hidden behavior on the sphinx rendered scikit-learn.org. See: https://github.com/scikit-learn/scikit-learn/issues/21755 */display: inline-block !important;position: relative;}#sk-container-id-7 div.sk-text-repr-fallback {display: none;}</style><div id=\"sk-container-id-7\" class=\"sk-top-container\"><div class=\"sk-text-repr-fallback\"><pre>XGBClassifier(base_score=None, booster=&#x27;gbtree&#x27;, callbacks=None,\n",
       "              colsample_bylevel=0.9190448386294816,\n",
       "              colsample_bynode=0.9190448386294816,\n",
       "              colsample_bytree=0.7615746338125093, early_stopping_rounds=None,\n",
       "              enable_categorical=False, eta=0.02465211760946184,\n",
       "              eval_metric=&#x27;auc&#x27;, feature_types=None, gamma=None, gpu_id=None,\n",
       "              grow_policy=None, importance_type=None,\n",
       "              interaction_constraints=None, learning_rate=None, max_bin=None,\n",
       "              max_cat_threshold=None, max_cat_to_onehot=None,\n",
       "              max_delta_step=None, max_depth=5, max_leaves=None,\n",
       "              min_child_weight=None, missing=nan, monotone_constraints=None,\n",
       "              n_estimators=5000, n_jobs=None, num_parallel_tree=None,\n",
       "              objective=&#x27;binary:logitraw&#x27;, ...)</pre><b>In a Jupyter environment, please rerun this cell to show the HTML representation or trust the notebook. <br />On GitHub, the HTML representation is unable to render, please try loading this page with nbviewer.org.</b></div><div class=\"sk-container\" hidden><div class=\"sk-item\"><div class=\"sk-estimator sk-toggleable\"><input class=\"sk-toggleable__control sk-hidden--visually\" id=\"sk-estimator-id-7\" type=\"checkbox\" checked><label for=\"sk-estimator-id-7\" class=\"sk-toggleable__label sk-toggleable__label-arrow\">XGBClassifier</label><div class=\"sk-toggleable__content\"><pre>XGBClassifier(base_score=None, booster=&#x27;gbtree&#x27;, callbacks=None,\n",
       "              colsample_bylevel=0.9190448386294816,\n",
       "              colsample_bynode=0.9190448386294816,\n",
       "              colsample_bytree=0.7615746338125093, early_stopping_rounds=None,\n",
       "              enable_categorical=False, eta=0.02465211760946184,\n",
       "              eval_metric=&#x27;auc&#x27;, feature_types=None, gamma=None, gpu_id=None,\n",
       "              grow_policy=None, importance_type=None,\n",
       "              interaction_constraints=None, learning_rate=None, max_bin=None,\n",
       "              max_cat_threshold=None, max_cat_to_onehot=None,\n",
       "              max_delta_step=None, max_depth=5, max_leaves=None,\n",
       "              min_child_weight=None, missing=nan, monotone_constraints=None,\n",
       "              n_estimators=5000, n_jobs=None, num_parallel_tree=None,\n",
       "              objective=&#x27;binary:logitraw&#x27;, ...)</pre></div></div></div></div></div>"
      ],
      "text/plain": [
       "XGBClassifier(base_score=None, booster='gbtree', callbacks=None,\n",
       "              colsample_bylevel=0.9190448386294816,\n",
       "              colsample_bynode=0.9190448386294816,\n",
       "              colsample_bytree=0.7615746338125093, early_stopping_rounds=None,\n",
       "              enable_categorical=False, eta=0.02465211760946184,\n",
       "              eval_metric='auc', feature_types=None, gamma=None, gpu_id=None,\n",
       "              grow_policy=None, importance_type=None,\n",
       "              interaction_constraints=None, learning_rate=None, max_bin=None,\n",
       "              max_cat_threshold=None, max_cat_to_onehot=None,\n",
       "              max_delta_step=None, max_depth=5, max_leaves=None,\n",
       "              min_child_weight=None, missing=nan, monotone_constraints=None,\n",
       "              n_estimators=5000, n_jobs=None, num_parallel_tree=None,\n",
       "              objective='binary:logitraw', ...)"
      ]
     },
     "execution_count": 41,
     "metadata": {},
     "output_type": "execute_result"
    }
   ],
   "source": [
    "xgb_cl.fit(train_X, train_y)"
   ]
  },
  {
   "cell_type": "code",
   "execution_count": 42,
   "id": "8e1437ca",
   "metadata": {
    "hidden": true
   },
   "outputs": [],
   "source": [
    "preds = xgb_cl.predict(valid_X)"
   ]
  },
  {
   "cell_type": "markdown",
   "id": "c0d1ec16",
   "metadata": {
    "hidden": true
   },
   "source": [
    "### Accuracy"
   ]
  },
  {
   "cell_type": "code",
   "execution_count": 43,
   "id": "170e3273",
   "metadata": {
    "hidden": true
   },
   "outputs": [
    {
     "data": {
      "text/plain": [
       "0.8185866983372921"
      ]
     },
     "execution_count": 43,
     "metadata": {},
     "output_type": "execute_result"
    }
   ],
   "source": [
    "accuracy_score(valid_y, preds)"
   ]
  },
  {
   "cell_type": "markdown",
   "id": "f880cfa7",
   "metadata": {
    "heading_collapsed": true,
    "hidden": true
   },
   "source": [
    "## Logistic Regression"
   ]
  },
  {
   "cell_type": "markdown",
   "id": "e4a62f59",
   "metadata": {
    "hidden": true
   },
   "source": [
    "### Train Model"
   ]
  },
  {
   "cell_type": "code",
   "execution_count": 65,
   "id": "1d34dee3",
   "metadata": {
    "hidden": true
   },
   "outputs": [
    {
     "name": "stdout",
     "output_type": "stream",
     "text": [
      "Parameters of Logistic Regresion Model with Multiple Predictors\n",
      "Intercept: -0.001\n",
      "Coefficients for Predictors\n",
      "        no_of_adults  no_of_children  no_of_weekend_nights  no_of_week_nights  \\\n",
      "Coeff:         0.091           0.146                 0.084              0.032   \n",
      "\n",
      "        type_of_meal_plan  required_car_parking_space  room_type_reserved  \\\n",
      "Coeff:             -0.003                       -0.57              -0.258   \n",
      "\n",
      "        lead_time  arrival_year  arrival_month  arrival_date  \\\n",
      "Coeff:      0.013        -0.002         -0.034         0.002   \n",
      "\n",
      "        market_segment_type  repeated_guest  no_of_previous_cancellations  \\\n",
      "Coeff:                1.099          -0.367                        -0.131   \n",
      "\n",
      "        no_of_previous_bookings_not_canceled  avg_price_per_room  \\\n",
      "Coeff:                                -0.639                0.02   \n",
      "\n",
      "        no_of_special_requests  \n",
      "Coeff:                  -1.199  \n"
     ]
    }
   ],
   "source": [
    "log_reg = LogisticRegression(penalty='l2', C=1e42, solver='liblinear')\n",
    "log_reg.fit(train_X, train_y)\n",
    "\n",
    "# Show intercept and coefficients of the multiple predictors' logistic model.\n",
    "print('Parameters of Logistic Regresion Model with Multiple Predictors')\n",
    "print('Intercept:', np.round(log_reg.intercept_[0], decimals=3))\n",
    "print('Coefficients for Predictors')\n",
    "print(pd.DataFrame({'Coeff:': np.round(log_reg.coef_[0], decimals=3)}, \n",
    "                    index=X.columns).transpose())"
   ]
  },
  {
   "cell_type": "code",
   "execution_count": 66,
   "id": "6b288097",
   "metadata": {
    "hidden": true,
    "scrolled": true
   },
   "outputs": [
    {
     "name": "stdout",
     "output_type": "stream",
     "text": [
      "Classification for Validation Partition\n",
      "       Actual  Classification    p(0)    p(1)\n",
      "id                                           \n",
      "37633       0               0  0.6571  0.3429\n",
      "24516       0               0  0.9087  0.0913\n",
      "31459       1               1  0.2577  0.7423\n",
      "24091       0               0  0.7857  0.2143\n",
      "13874       0               1  0.4104  0.5896\n",
      "11389       0               1  0.4791  0.5209\n",
      "24845       0               0  0.8014  0.1986\n",
      "40782       1               1  0.3400  0.6600\n",
      "31545       1               0  0.6048  0.3952\n",
      "34242       0               0  0.9573  0.0427\n",
      "39795       0               0  0.5656  0.4344\n",
      "40756       0               0  0.9694  0.0306\n",
      "37004       0               0  0.6786  0.3214\n",
      "25524       0               0  0.9712  0.0288\n",
      "30219       0               0  0.6331  0.3669\n",
      "26793       0               0  0.9497  0.0503\n",
      "17910       0               1  0.2667  0.7333\n",
      "33915       1               1  0.1713  0.8287\n",
      "37723       0               0  1.0000  0.0000\n",
      "9823        0               0  0.6123  0.3877\n"
     ]
    }
   ],
   "source": [
    "log_pred = log_reg.predict(valid_X)\n",
    "\n",
    "log_prob = np.round(log_reg.predict_proba(valid_X), decimals=4)\n",
    "\n",
    "log_result = pd.DataFrame({'Actual': valid_y, \n",
    "                    'Classification': log_pred,\n",
    "                    'p(0)': [p[0] for p in log_prob],\n",
    "                    'p(1)': [p[1] for p in log_prob]\n",
    "})\n",
    "\n",
    "print('Classification for Validation Partition')\n",
    "print(log_result.head(20))"
   ]
  },
  {
   "cell_type": "markdown",
   "id": "aa6c2936",
   "metadata": {
    "hidden": true
   },
   "source": [
    "### Accuracy"
   ]
  },
  {
   "cell_type": "code",
   "execution_count": 67,
   "id": "d83f580b",
   "metadata": {
    "hidden": true
   },
   "outputs": [
    {
     "name": "stdout",
     "output_type": "stream",
     "text": [
      "Training Partition\n",
      "Confusion Matrix (Accuracy 0.7649)\n",
      "\n",
      "       Prediction\n",
      "Actual     0     1\n",
      "     0 12752  2573\n",
      "     1  3366  6569\n",
      "\n",
      "Validation Partition\n",
      "Confusion Matrix (Accuracy 0.7651)\n",
      "\n",
      "       Prediction\n",
      "Actual    0    1\n",
      "     0 8576 1695\n",
      "     1 2261 4308\n"
     ]
    }
   ],
   "source": [
    "print('Training Partition')\n",
    "classificationSummary(train_y, log_reg.predict(train_X))\n",
    "\n",
    "print()\n",
    "print('Validation Partition')\n",
    "classificationSummary(valid_y, log_reg.predict(valid_X))"
   ]
  },
  {
   "cell_type": "code",
   "execution_count": 68,
   "id": "45a4bfdc",
   "metadata": {
    "hidden": true
   },
   "outputs": [
    {
     "data": {
      "image/png": "[encoded data removed]",
      "text/plain": [
       "<Figure size 720x288 with 2 Axes>"
      ]
     },
     "metadata": {
      "needs_background": "light"
     },
     "output_type": "display_data"
    }
   ],
   "source": [
    "df = log_result.sort_values(by=['p(1)'], ascending=False)\n",
    "\n",
    "fig, axes = plt.subplots(nrows=1, ncols=2, figsize=(10, 4))\n",
    "\n",
    "gainsChart(df.Actual, ax=axes[0], color='Blue')\n",
    "\n",
    "liftChart(df['p(1)'], title=False, ax=axes[1])\n",
    " \n",
    "plt.tight_layout()\n",
    "plt.show()"
   ]
  },
  {
   "cell_type": "markdown",
   "id": "3c9f870a",
   "metadata": {
    "hidden": true
   },
   "source": [
    "### Predictions"
   ]
  },
  {
   "cell_type": "code",
   "execution_count": null,
   "id": "1f5ca07c",
   "metadata": {
    "hidden": true
   },
   "outputs": [],
   "source": []
  },
  {
   "cell_type": "markdown",
   "id": "0aa73468",
   "metadata": {
    "heading_collapsed": true,
    "hidden": true
   },
   "source": [
    "## Statsmodel version"
   ]
  },
  {
   "cell_type": "markdown",
   "id": "9551d100",
   "metadata": {
    "hidden": true
   },
   "source": [
    "### Train Model"
   ]
  },
  {
   "cell_type": "code",
   "execution_count": 69,
   "id": "d121076a",
   "metadata": {
    "hidden": true
   },
   "outputs": [
    {
     "name": "stdout",
     "output_type": "stream",
     "text": [
      "                 Generalized Linear Model Regression Results                  \n",
      "==============================================================================\n",
      "Dep. Variable:         booking_status   No. Observations:                25260\n",
      "Model:                            GLM   Df Residuals:                    25243\n",
      "Model Family:                Binomial   Df Model:                           16\n",
      "Link Function:                  Logit   Scale:                          1.0000\n",
      "Method:                          IRLS   Log-Likelihood:                -12430.\n",
      "Date:                Mon, 27 Feb 2023   Deviance:                       24860.\n",
      "Time:                        14:59:33   Pearson chi2:                 2.69e+04\n",
      "No. Iterations:                    14   Pseudo R-squ. (CS):             0.2997\n",
      "Covariance Type:            nonrobust                                         \n",
      "========================================================================================================\n",
      "                                           coef    std err          z      P>|z|      [0.025      0.975]\n",
      "--------------------------------------------------------------------------------------------------------\n",
      "no_of_adults                             0.0666      0.033      1.994      0.046       0.001       0.132\n",
      "no_of_children                           0.0995      0.041      2.398      0.016       0.018       0.181\n",
      "no_of_weekend_nights                     0.0894      0.018      4.970      0.000       0.054       0.125\n",
      "no_of_week_nights                        0.0275      0.011      2.474      0.013       0.006       0.049\n",
      "type_of_meal_plan                       -0.0013      0.027     -0.048      0.962      -0.054       0.052\n",
      "required_car_parking_space              -1.5130      0.139    -10.854      0.000      -1.786      -1.240\n",
      "room_type_reserved                      -0.2850      0.025    -11.330      0.000      -0.334      -0.236\n",
      "lead_time                                0.0123      0.000     54.134      0.000       0.012       0.013\n",
      "arrival_year                            -0.0020   4.96e-05    -40.027      0.000      -0.002      -0.002\n",
      "arrival_month                           -0.0334      0.006     -5.621      0.000      -0.045      -0.022\n",
      "arrival_date                             0.0016      0.002      0.912      0.362      -0.002       0.005\n",
      "market_segment_type                      1.1548      0.030     37.906      0.000       1.095       1.214\n",
      "repeated_guest                          -0.3871      2.207     -0.175      0.861      -4.714       3.939\n",
      "no_of_previous_cancellations            -2.1697      2.276     -0.953      0.340      -6.631       2.291\n",
      "no_of_previous_bookings_not_canceled    -3.1564      2.134     -1.479      0.139      -7.339       1.027\n",
      "avg_price_per_room                       0.0199      0.001     34.487      0.000       0.019       0.021\n",
      "no_of_special_requests                  -1.1956      0.025    -47.499      0.000      -1.245      -1.146\n",
      "========================================================================================================\n"
     ]
    }
   ],
   "source": [
    "data_sm = data \n",
    "\n",
    "data_sm = sm.add_constant(data_sm, prepend=True)\n",
    "\n",
    "log_reg_sm = sm.GLM(train_y, train_X, family=sm.families.Binomial())\n",
    "log_result_sm = log_reg_sm.fit()\n",
    "print(log_result_sm.summary())"
   ]
  },
  {
   "cell_type": "markdown",
   "id": "98b69862",
   "metadata": {
    "hidden": true
   },
   "source": [
    "### Accuracy"
   ]
  },
  {
   "cell_type": "code",
   "execution_count": 70,
   "id": "c4f0ee13",
   "metadata": {
    "hidden": true,
    "scrolled": true
   },
   "outputs": [
    {
     "name": "stdout",
     "output_type": "stream",
     "text": [
      "Ordinal Logistic Regression\n",
      "  Intercepts [0.001]\n",
      "  Coefficients [ 0.052  0.173  0.081  0.023 -0.006 -1.145 -0.336  0.012 -0.002 -0.032\n",
      "  0.002  1.143 -0.759 -0.294 -1.4    0.02  -1.229]\n",
      "\n",
      "\n",
      "Classification for First 10 Records in Validation Data Set\n",
      "       Actual  Classification    P(0)    P(1)\n",
      "id                                           \n",
      "37633       0               0  0.6489  0.3511\n",
      "24516       0               0  0.9061  0.0939\n",
      "31459       1               1  0.2502  0.7498\n",
      "24091       0               0  0.7923  0.2077\n",
      "13874       0               1  0.4014  0.5986\n",
      "11389       0               1  0.4635  0.5365\n",
      "24845       0               0  0.8251  0.1749\n",
      "40782       1               1  0.3224  0.6776\n",
      "31545       1               0  0.6043  0.3957\n",
      "34242       0               0  0.9619  0.0381\n"
     ]
    }
   ],
   "source": [
    "logit_ord = LogisticIT(alpha=0)\n",
    "logit_ord.fit(train_X, train_y)\n",
    "\n",
    "print('Ordinal Logistic Regression')\n",
    "print('  Intercepts', np.round(logit_ord.theta_, decimals=3))\n",
    "print('  Coefficients', np.round(logit_ord.coef_, decimals=3))\n",
    "print()\n",
    "\n",
    "results_ord = logit_ord.predict(valid_X)\n",
    "prob_ord = np.round(logit_ord.predict_proba(valid_X), decimals=4)\n",
    "\n",
    "print()\n",
    "print('Classification for First 10 Records in Validation Data Set')\n",
    "results_ord = pd.DataFrame({\n",
    "    'Actual': valid_y, 'Classification': results_ord,\n",
    "    'P(0)': [p[0] for p in prob_ord],\n",
    "    'P(1)': [p[1] for p in prob_ord]})\n",
    "\n",
    "print(results_ord.head(10))"
   ]
  },
  {
   "cell_type": "code",
   "execution_count": 71,
   "id": "c293533f",
   "metadata": {
    "hidden": true
   },
   "outputs": [
    {
     "name": "stdout",
     "output_type": "stream",
     "text": [
      "Training Partition for Ordinal Logistic Model\n",
      "Confusion Matrix (Accuracy 0.7664)\n",
      "\n",
      "       Prediction\n",
      "Actual     0     1\n",
      "     0 12744  2581\n",
      "     1  3319  6616\n",
      "\n",
      "Validation Partition for Ordinal Logistic Model\n",
      "Confusion Matrix (Accuracy 0.7666)\n",
      "\n",
      "       Prediction\n",
      "Actual    0    1\n",
      "     0 8569 1702\n",
      "     1 2228 4341\n"
     ]
    }
   ],
   "source": [
    "print('Training Partition for Ordinal Logistic Model')\n",
    "classificationSummary(train_y, logit_ord.predict(train_X))\n",
    "\n",
    "print()\n",
    "print('Validation Partition for Ordinal Logistic Model')\n",
    "classificationSummary(valid_y, logit_ord.predict(valid_X))"
   ]
  },
  {
   "cell_type": "markdown",
   "id": "cf452f4a",
   "metadata": {
    "heading_collapsed": true,
    "hidden": true
   },
   "source": [
    "## Pycaret"
   ]
  },
  {
   "cell_type": "markdown",
   "id": "12db6290",
   "metadata": {
    "hidden": true
   },
   "source": [
    "### Train Model"
   ]
  },
  {
   "cell_type": "code",
   "execution_count": 72,
   "id": "7bb50fd1",
   "metadata": {
    "hidden": true,
    "scrolled": false
   },
   "outputs": [
    {
     "data": {
      "text/html": [
       "<style type=\"text/css\">\n",
       "#T_bea52_row15_col1 {\n",
       "  background-color: lightgreen;\n",
       "}\n",
       "</style>\n",
       "<table id=\"T_bea52_\">\n",
       "  <thead>\n",
       "    <tr>\n",
       "      <th class=\"blank level0\" >&nbsp;</th>\n",
       "      <th class=\"col_heading level0 col0\" >Description</th>\n",
       "      <th class=\"col_heading level0 col1\" >Value</th>\n",
       "    </tr>\n",
       "  </thead>\n",
       "  <tbody>\n",
       "    <tr>\n",
       "      <th id=\"T_bea52_level0_row0\" class=\"row_heading level0 row0\" >0</th>\n",
       "      <td id=\"T_bea52_row0_col0\" class=\"data row0 col0\" >session_id</td>\n",
       "      <td id=\"T_bea52_row0_col1\" class=\"data row0 col1\" >812</td>\n",
       "    </tr>\n",
       "    <tr>\n",
       "      <th id=\"T_bea52_level0_row1\" class=\"row_heading level0 row1\" >1</th>\n",
       "      <td id=\"T_bea52_row1_col0\" class=\"data row1 col0\" >Target</td>\n",
       "      <td id=\"T_bea52_row1_col1\" class=\"data row1 col1\" >booking_status</td>\n",
       "    </tr>\n",
       "    <tr>\n",
       "      <th id=\"T_bea52_level0_row2\" class=\"row_heading level0 row2\" >2</th>\n",
       "      <td id=\"T_bea52_row2_col0\" class=\"data row2 col0\" >Target Type</td>\n",
       "      <td id=\"T_bea52_row2_col1\" class=\"data row2 col1\" >Binary</td>\n",
       "    </tr>\n",
       "    <tr>\n",
       "      <th id=\"T_bea52_level0_row3\" class=\"row_heading level0 row3\" >3</th>\n",
       "      <td id=\"T_bea52_row3_col0\" class=\"data row3 col0\" >Label Encoded</td>\n",
       "      <td id=\"T_bea52_row3_col1\" class=\"data row3 col1\" >0: 0, 1: 1</td>\n",
       "    </tr>\n",
       "    <tr>\n",
       "      <th id=\"T_bea52_level0_row4\" class=\"row_heading level0 row4\" >4</th>\n",
       "      <td id=\"T_bea52_row4_col0\" class=\"data row4 col0\" >Original Data</td>\n",
       "      <td id=\"T_bea52_row4_col1\" class=\"data row4 col1\" >(42100, 18)</td>\n",
       "    </tr>\n",
       "    <tr>\n",
       "      <th id=\"T_bea52_level0_row5\" class=\"row_heading level0 row5\" >5</th>\n",
       "      <td id=\"T_bea52_row5_col0\" class=\"data row5 col0\" >Missing Values</td>\n",
       "      <td id=\"T_bea52_row5_col1\" class=\"data row5 col1\" >False</td>\n",
       "    </tr>\n",
       "    <tr>\n",
       "      <th id=\"T_bea52_level0_row6\" class=\"row_heading level0 row6\" >6</th>\n",
       "      <td id=\"T_bea52_row6_col0\" class=\"data row6 col0\" >Numeric Features</td>\n",
       "      <td id=\"T_bea52_row6_col1\" class=\"data row6 col1\" >4</td>\n",
       "    </tr>\n",
       "    <tr>\n",
       "      <th id=\"T_bea52_level0_row7\" class=\"row_heading level0 row7\" >7</th>\n",
       "      <td id=\"T_bea52_row7_col0\" class=\"data row7 col0\" >Categorical Features</td>\n",
       "      <td id=\"T_bea52_row7_col1\" class=\"data row7 col1\" >13</td>\n",
       "    </tr>\n",
       "    <tr>\n",
       "      <th id=\"T_bea52_level0_row8\" class=\"row_heading level0 row8\" >8</th>\n",
       "      <td id=\"T_bea52_row8_col0\" class=\"data row8 col0\" >Transformed Train Set</td>\n",
       "      <td id=\"T_bea52_row8_col1\" class=\"data row8 col1\" >(25260, 17)</td>\n",
       "    </tr>\n",
       "    <tr>\n",
       "      <th id=\"T_bea52_level0_row9\" class=\"row_heading level0 row9\" >9</th>\n",
       "      <td id=\"T_bea52_row9_col0\" class=\"data row9 col0\" >Transformed Test Set</td>\n",
       "      <td id=\"T_bea52_row9_col1\" class=\"data row9 col1\" >(16840, 17)</td>\n",
       "    </tr>\n",
       "    <tr>\n",
       "      <th id=\"T_bea52_level0_row10\" class=\"row_heading level0 row10\" >10</th>\n",
       "      <td id=\"T_bea52_row10_col0\" class=\"data row10 col0\" >Shuffle Train-Test</td>\n",
       "      <td id=\"T_bea52_row10_col1\" class=\"data row10 col1\" >True</td>\n",
       "    </tr>\n",
       "    <tr>\n",
       "      <th id=\"T_bea52_level0_row11\" class=\"row_heading level0 row11\" >11</th>\n",
       "      <td id=\"T_bea52_row11_col0\" class=\"data row11 col0\" >Stratify Train-Test</td>\n",
       "      <td id=\"T_bea52_row11_col1\" class=\"data row11 col1\" >False</td>\n",
       "    </tr>\n",
       "    <tr>\n",
       "      <th id=\"T_bea52_level0_row12\" class=\"row_heading level0 row12\" >12</th>\n",
       "      <td id=\"T_bea52_row12_col0\" class=\"data row12 col0\" >Fold Generator</td>\n",
       "      <td id=\"T_bea52_row12_col1\" class=\"data row12 col1\" >StratifiedKFold</td>\n",
       "    </tr>\n",
       "    <tr>\n",
       "      <th id=\"T_bea52_level0_row13\" class=\"row_heading level0 row13\" >13</th>\n",
       "      <td id=\"T_bea52_row13_col0\" class=\"data row13 col0\" >Fold Number</td>\n",
       "      <td id=\"T_bea52_row13_col1\" class=\"data row13 col1\" >10</td>\n",
       "    </tr>\n",
       "    <tr>\n",
       "      <th id=\"T_bea52_level0_row14\" class=\"row_heading level0 row14\" >14</th>\n",
       "      <td id=\"T_bea52_row14_col0\" class=\"data row14 col0\" >CPU Jobs</td>\n",
       "      <td id=\"T_bea52_row14_col1\" class=\"data row14 col1\" >-1</td>\n",
       "    </tr>\n",
       "    <tr>\n",
       "      <th id=\"T_bea52_level0_row15\" class=\"row_heading level0 row15\" >15</th>\n",
       "      <td id=\"T_bea52_row15_col0\" class=\"data row15 col0\" >Use GPU</td>\n",
       "      <td id=\"T_bea52_row15_col1\" class=\"data row15 col1\" >True</td>\n",
       "    </tr>\n",
       "    <tr>\n",
       "      <th id=\"T_bea52_level0_row16\" class=\"row_heading level0 row16\" >16</th>\n",
       "      <td id=\"T_bea52_row16_col0\" class=\"data row16 col0\" >Log Experiment</td>\n",
       "      <td id=\"T_bea52_row16_col1\" class=\"data row16 col1\" >False</td>\n",
       "    </tr>\n",
       "    <tr>\n",
       "      <th id=\"T_bea52_level0_row17\" class=\"row_heading level0 row17\" >17</th>\n",
       "      <td id=\"T_bea52_row17_col0\" class=\"data row17 col0\" >Experiment Name</td>\n",
       "      <td id=\"T_bea52_row17_col1\" class=\"data row17 col1\" >clf-default-name</td>\n",
       "    </tr>\n",
       "    <tr>\n",
       "      <th id=\"T_bea52_level0_row18\" class=\"row_heading level0 row18\" >18</th>\n",
       "      <td id=\"T_bea52_row18_col0\" class=\"data row18 col0\" >USI</td>\n",
       "      <td id=\"T_bea52_row18_col1\" class=\"data row18 col1\" >3ab0</td>\n",
       "    </tr>\n",
       "    <tr>\n",
       "      <th id=\"T_bea52_level0_row19\" class=\"row_heading level0 row19\" >19</th>\n",
       "      <td id=\"T_bea52_row19_col0\" class=\"data row19 col0\" >Fix Imbalance</td>\n",
       "      <td id=\"T_bea52_row19_col1\" class=\"data row19 col1\" >False</td>\n",
       "    </tr>\n",
       "    <tr>\n",
       "      <th id=\"T_bea52_level0_row20\" class=\"row_heading level0 row20\" >20</th>\n",
       "      <td id=\"T_bea52_row20_col0\" class=\"data row20 col0\" >Fix Imbalance Method</td>\n",
       "      <td id=\"T_bea52_row20_col1\" class=\"data row20 col1\" >SMOTE</td>\n",
       "    </tr>\n",
       "  </tbody>\n",
       "</table>\n"
      ],
      "text/plain": [
       "<pandas.io.formats.style.Styler at 0x1dc98497040>"
      ]
     },
     "metadata": {},
     "output_type": "display_data"
    }
   ],
   "source": [
    "s = setup(data, target = 'booking_status', train_size = 0.6, fold_shuffle=True, \n",
    "          preprocess=False, use_gpu=True)"
   ]
  },
  {
   "cell_type": "code",
   "execution_count": 73,
   "id": "63485e4d",
   "metadata": {
    "hidden": true
   },
   "outputs": [
    {
     "data": {
      "text/html": [
       "<style type=\"text/css\">\n",
       "#T_e3f1d_ th {\n",
       "  text-align: left;\n",
       "}\n",
       "#T_e3f1d_row0_col0, #T_e3f1d_row0_col3, #T_e3f1d_row0_col4, #T_e3f1d_row1_col0, #T_e3f1d_row1_col1, #T_e3f1d_row1_col2, #T_e3f1d_row1_col3, #T_e3f1d_row1_col5, #T_e3f1d_row1_col6, #T_e3f1d_row1_col7, #T_e3f1d_row2_col0, #T_e3f1d_row2_col1, #T_e3f1d_row2_col2, #T_e3f1d_row2_col3, #T_e3f1d_row2_col4, #T_e3f1d_row2_col5, #T_e3f1d_row2_col6, #T_e3f1d_row2_col7, #T_e3f1d_row3_col0, #T_e3f1d_row3_col1, #T_e3f1d_row3_col2, #T_e3f1d_row3_col3, #T_e3f1d_row3_col4, #T_e3f1d_row3_col5, #T_e3f1d_row3_col6, #T_e3f1d_row3_col7, #T_e3f1d_row4_col0, #T_e3f1d_row4_col1, #T_e3f1d_row4_col2, #T_e3f1d_row4_col3, #T_e3f1d_row4_col4, #T_e3f1d_row4_col5, #T_e3f1d_row4_col6, #T_e3f1d_row4_col7, #T_e3f1d_row5_col0, #T_e3f1d_row5_col1, #T_e3f1d_row5_col2, #T_e3f1d_row5_col3, #T_e3f1d_row5_col4, #T_e3f1d_row5_col5, #T_e3f1d_row5_col6, #T_e3f1d_row5_col7, #T_e3f1d_row6_col0, #T_e3f1d_row6_col1, #T_e3f1d_row6_col2, #T_e3f1d_row6_col3, #T_e3f1d_row6_col4, #T_e3f1d_row6_col5, #T_e3f1d_row6_col6, #T_e3f1d_row6_col7, #T_e3f1d_row7_col0, #T_e3f1d_row7_col1, #T_e3f1d_row7_col2, #T_e3f1d_row7_col3, #T_e3f1d_row7_col4, #T_e3f1d_row7_col5, #T_e3f1d_row7_col6, #T_e3f1d_row7_col7, #T_e3f1d_row8_col0, #T_e3f1d_row8_col1, #T_e3f1d_row8_col2, #T_e3f1d_row8_col3, #T_e3f1d_row8_col4, #T_e3f1d_row8_col5, #T_e3f1d_row8_col6, #T_e3f1d_row8_col7, #T_e3f1d_row9_col0, #T_e3f1d_row9_col1, #T_e3f1d_row9_col2, #T_e3f1d_row9_col3, #T_e3f1d_row9_col4, #T_e3f1d_row9_col5, #T_e3f1d_row9_col6, #T_e3f1d_row9_col7, #T_e3f1d_row10_col0, #T_e3f1d_row10_col1, #T_e3f1d_row10_col2, #T_e3f1d_row10_col3, #T_e3f1d_row10_col4, #T_e3f1d_row10_col5, #T_e3f1d_row10_col6, #T_e3f1d_row10_col7, #T_e3f1d_row11_col0, #T_e3f1d_row11_col1, #T_e3f1d_row11_col2, #T_e3f1d_row11_col3, #T_e3f1d_row11_col4, #T_e3f1d_row11_col5, #T_e3f1d_row11_col6, #T_e3f1d_row11_col7, #T_e3f1d_row12_col0, #T_e3f1d_row12_col1, #T_e3f1d_row12_col2, #T_e3f1d_row12_col4, #T_e3f1d_row12_col5, #T_e3f1d_row12_col6, #T_e3f1d_row12_col7 {\n",
       "  text-align: left;\n",
       "}\n",
       "#T_e3f1d_row0_col1, #T_e3f1d_row0_col2, #T_e3f1d_row0_col5, #T_e3f1d_row0_col6, #T_e3f1d_row0_col7, #T_e3f1d_row1_col4, #T_e3f1d_row12_col3 {\n",
       "  text-align: left;\n",
       "  background-color: yellow;\n",
       "}\n",
       "#T_e3f1d_row0_col8, #T_e3f1d_row1_col8, #T_e3f1d_row2_col8, #T_e3f1d_row3_col8, #T_e3f1d_row4_col8, #T_e3f1d_row5_col8, #T_e3f1d_row7_col8, #T_e3f1d_row8_col8, #T_e3f1d_row9_col8, #T_e3f1d_row10_col8, #T_e3f1d_row11_col8, #T_e3f1d_row12_col8 {\n",
       "  text-align: left;\n",
       "  background-color: lightgrey;\n",
       "}\n",
       "#T_e3f1d_row6_col8 {\n",
       "  text-align: left;\n",
       "  background-color: yellow;\n",
       "  background-color: lightgrey;\n",
       "}\n",
       "</style>\n",
       "<table id=\"T_e3f1d_\">\n",
       "  <thead>\n",
       "    <tr>\n",
       "      <th class=\"blank level0\" >&nbsp;</th>\n",
       "      <th class=\"col_heading level0 col0\" >Model</th>\n",
       "      <th class=\"col_heading level0 col1\" >Accuracy</th>\n",
       "      <th class=\"col_heading level0 col2\" >AUC</th>\n",
       "      <th class=\"col_heading level0 col3\" >Recall</th>\n",
       "      <th class=\"col_heading level0 col4\" >Prec.</th>\n",
       "      <th class=\"col_heading level0 col5\" >F1</th>\n",
       "      <th class=\"col_heading level0 col6\" >Kappa</th>\n",
       "      <th class=\"col_heading level0 col7\" >MCC</th>\n",
       "      <th class=\"col_heading level0 col8\" >TT (Sec)</th>\n",
       "    </tr>\n",
       "  </thead>\n",
       "  <tbody>\n",
       "    <tr>\n",
       "      <th id=\"T_e3f1d_level0_row0\" class=\"row_heading level0 row0\" >catboost</th>\n",
       "      <td id=\"T_e3f1d_row0_col0\" class=\"data row0 col0\" >CatBoost Classifier</td>\n",
       "      <td id=\"T_e3f1d_row0_col1\" class=\"data row0 col1\" >0.8202</td>\n",
       "      <td id=\"T_e3f1d_row0_col2\" class=\"data row0 col2\" >0.8939</td>\n",
       "      <td id=\"T_e3f1d_row0_col3\" class=\"data row0 col3\" >0.7430</td>\n",
       "      <td id=\"T_e3f1d_row0_col4\" class=\"data row0 col4\" >0.7867</td>\n",
       "      <td id=\"T_e3f1d_row0_col5\" class=\"data row0 col5\" >0.7642</td>\n",
       "      <td id=\"T_e3f1d_row0_col6\" class=\"data row0 col6\" >0.6191</td>\n",
       "      <td id=\"T_e3f1d_row0_col7\" class=\"data row0 col7\" >0.6198</td>\n",
       "      <td id=\"T_e3f1d_row0_col8\" class=\"data row0 col8\" >6.8760</td>\n",
       "    </tr>\n",
       "    <tr>\n",
       "      <th id=\"T_e3f1d_level0_row1\" class=\"row_heading level0 row1\" >gbc</th>\n",
       "      <td id=\"T_e3f1d_row1_col0\" class=\"data row1 col0\" >Gradient Boosting Classifier</td>\n",
       "      <td id=\"T_e3f1d_row1_col1\" class=\"data row1 col1\" >0.8113</td>\n",
       "      <td id=\"T_e3f1d_row1_col2\" class=\"data row1 col2\" >0.8787</td>\n",
       "      <td id=\"T_e3f1d_row1_col3\" class=\"data row1 col3\" >0.7115</td>\n",
       "      <td id=\"T_e3f1d_row1_col4\" class=\"data row1 col4\" >0.7869</td>\n",
       "      <td id=\"T_e3f1d_row1_col5\" class=\"data row1 col5\" >0.7472</td>\n",
       "      <td id=\"T_e3f1d_row1_col6\" class=\"data row1 col6\" >0.5973</td>\n",
       "      <td id=\"T_e3f1d_row1_col7\" class=\"data row1 col7\" >0.5993</td>\n",
       "      <td id=\"T_e3f1d_row1_col8\" class=\"data row1 col8\" >1.9030</td>\n",
       "    </tr>\n",
       "    <tr>\n",
       "      <th id=\"T_e3f1d_level0_row2\" class=\"row_heading level0 row2\" >rf</th>\n",
       "      <td id=\"T_e3f1d_row2_col0\" class=\"data row2 col0\" >Random Forest Classifier</td>\n",
       "      <td id=\"T_e3f1d_row2_col1\" class=\"data row2 col1\" >0.8042</td>\n",
       "      <td id=\"T_e3f1d_row2_col2\" class=\"data row2 col2\" >0.8744</td>\n",
       "      <td id=\"T_e3f1d_row2_col3\" class=\"data row2 col3\" >0.7220</td>\n",
       "      <td id=\"T_e3f1d_row2_col4\" class=\"data row2 col4\" >0.7653</td>\n",
       "      <td id=\"T_e3f1d_row2_col5\" class=\"data row2 col5\" >0.7430</td>\n",
       "      <td id=\"T_e3f1d_row2_col6\" class=\"data row2 col6\" >0.5851</td>\n",
       "      <td id=\"T_e3f1d_row2_col7\" class=\"data row2 col7\" >0.5858</td>\n",
       "      <td id=\"T_e3f1d_row2_col8\" class=\"data row2 col8\" >1.4140</td>\n",
       "    </tr>\n",
       "    <tr>\n",
       "      <th id=\"T_e3f1d_level0_row3\" class=\"row_heading level0 row3\" >et</th>\n",
       "      <td id=\"T_e3f1d_row3_col0\" class=\"data row3 col0\" >Extra Trees Classifier</td>\n",
       "      <td id=\"T_e3f1d_row3_col1\" class=\"data row3 col1\" >0.7924</td>\n",
       "      <td id=\"T_e3f1d_row3_col2\" class=\"data row3 col2\" >0.8461</td>\n",
       "      <td id=\"T_e3f1d_row3_col3\" class=\"data row3 col3\" >0.7143</td>\n",
       "      <td id=\"T_e3f1d_row3_col4\" class=\"data row3 col4\" >0.7455</td>\n",
       "      <td id=\"T_e3f1d_row3_col5\" class=\"data row3 col5\" >0.7295</td>\n",
       "      <td id=\"T_e3f1d_row3_col6\" class=\"data row3 col6\" >0.5612</td>\n",
       "      <td id=\"T_e3f1d_row3_col7\" class=\"data row3 col7\" >0.5615</td>\n",
       "      <td id=\"T_e3f1d_row3_col8\" class=\"data row3 col8\" >3.8750</td>\n",
       "    </tr>\n",
       "    <tr>\n",
       "      <th id=\"T_e3f1d_level0_row4\" class=\"row_heading level0 row4\" >ada</th>\n",
       "      <td id=\"T_e3f1d_row4_col0\" class=\"data row4 col0\" >Ada Boost Classifier</td>\n",
       "      <td id=\"T_e3f1d_row4_col1\" class=\"data row4 col1\" >0.7916</td>\n",
       "      <td id=\"T_e3f1d_row4_col2\" class=\"data row4 col2\" >0.8672</td>\n",
       "      <td id=\"T_e3f1d_row4_col3\" class=\"data row4 col3\" >0.7201</td>\n",
       "      <td id=\"T_e3f1d_row4_col4\" class=\"data row4 col4\" >0.7412</td>\n",
       "      <td id=\"T_e3f1d_row4_col5\" class=\"data row4 col5\" >0.7304</td>\n",
       "      <td id=\"T_e3f1d_row4_col6\" class=\"data row4 col6\" >0.5607</td>\n",
       "      <td id=\"T_e3f1d_row4_col7\" class=\"data row4 col7\" >0.5610</td>\n",
       "      <td id=\"T_e3f1d_row4_col8\" class=\"data row4 col8\" >5.4510</td>\n",
       "    </tr>\n",
       "    <tr>\n",
       "      <th id=\"T_e3f1d_level0_row5\" class=\"row_heading level0 row5\" >lda</th>\n",
       "      <td id=\"T_e3f1d_row5_col0\" class=\"data row5 col0\" >Linear Discriminant Analysis</td>\n",
       "      <td id=\"T_e3f1d_row5_col1\" class=\"data row5 col1\" >0.7675</td>\n",
       "      <td id=\"T_e3f1d_row5_col2\" class=\"data row5 col2\" >0.8315</td>\n",
       "      <td id=\"T_e3f1d_row5_col3\" class=\"data row5 col3\" >0.6686</td>\n",
       "      <td id=\"T_e3f1d_row5_col4\" class=\"data row5 col4\" >0.7189</td>\n",
       "      <td id=\"T_e3f1d_row5_col5\" class=\"data row5 col5\" >0.6928</td>\n",
       "      <td id=\"T_e3f1d_row5_col6\" class=\"data row5 col6\" >0.5062</td>\n",
       "      <td id=\"T_e3f1d_row5_col7\" class=\"data row5 col7\" >0.5071</td>\n",
       "      <td id=\"T_e3f1d_row5_col8\" class=\"data row5 col8\" >0.1240</td>\n",
       "    </tr>\n",
       "    <tr>\n",
       "      <th id=\"T_e3f1d_level0_row6\" class=\"row_heading level0 row6\" >ridge</th>\n",
       "      <td id=\"T_e3f1d_row6_col0\" class=\"data row6 col0\" >Ridge Classifier</td>\n",
       "      <td id=\"T_e3f1d_row6_col1\" class=\"data row6 col1\" >0.7673</td>\n",
       "      <td id=\"T_e3f1d_row6_col2\" class=\"data row6 col2\" >0.0000</td>\n",
       "      <td id=\"T_e3f1d_row6_col3\" class=\"data row6 col3\" >0.6648</td>\n",
       "      <td id=\"T_e3f1d_row6_col4\" class=\"data row6 col4\" >0.7202</td>\n",
       "      <td id=\"T_e3f1d_row6_col5\" class=\"data row6 col5\" >0.6913</td>\n",
       "      <td id=\"T_e3f1d_row6_col6\" class=\"data row6 col6\" >0.5050</td>\n",
       "      <td id=\"T_e3f1d_row6_col7\" class=\"data row6 col7\" >0.5061</td>\n",
       "      <td id=\"T_e3f1d_row6_col8\" class=\"data row6 col8\" >0.0780</td>\n",
       "    </tr>\n",
       "    <tr>\n",
       "      <th id=\"T_e3f1d_level0_row7\" class=\"row_heading level0 row7\" >lr</th>\n",
       "      <td id=\"T_e3f1d_row7_col0\" class=\"data row7 col0\" >Logistic Regression</td>\n",
       "      <td id=\"T_e3f1d_row7_col1\" class=\"data row7 col1\" >0.7647</td>\n",
       "      <td id=\"T_e3f1d_row7_col2\" class=\"data row7 col2\" >0.8298</td>\n",
       "      <td id=\"T_e3f1d_row7_col3\" class=\"data row7 col3\" >0.6547</td>\n",
       "      <td id=\"T_e3f1d_row7_col4\" class=\"data row7 col4\" >0.7201</td>\n",
       "      <td id=\"T_e3f1d_row7_col5\" class=\"data row7 col5\" >0.6858</td>\n",
       "      <td id=\"T_e3f1d_row7_col6\" class=\"data row7 col6\" >0.4984</td>\n",
       "      <td id=\"T_e3f1d_row7_col7\" class=\"data row7 col7\" >0.4999</td>\n",
       "      <td id=\"T_e3f1d_row7_col8\" class=\"data row7 col8\" >0.9140</td>\n",
       "    </tr>\n",
       "    <tr>\n",
       "      <th id=\"T_e3f1d_level0_row8\" class=\"row_heading level0 row8\" >dt</th>\n",
       "      <td id=\"T_e3f1d_row8_col0\" class=\"data row8 col0\" >Decision Tree Classifier</td>\n",
       "      <td id=\"T_e3f1d_row8_col1\" class=\"data row8 col1\" >0.7401</td>\n",
       "      <td id=\"T_e3f1d_row8_col2\" class=\"data row8 col2\" >0.7299</td>\n",
       "      <td id=\"T_e3f1d_row8_col3\" class=\"data row8 col3\" >0.6629</td>\n",
       "      <td id=\"T_e3f1d_row8_col4\" class=\"data row8 col4\" >0.6707</td>\n",
       "      <td id=\"T_e3f1d_row8_col5\" class=\"data row8 col5\" >0.6667</td>\n",
       "      <td id=\"T_e3f1d_row8_col6\" class=\"data row8 col6\" >0.4537</td>\n",
       "      <td id=\"T_e3f1d_row8_col7\" class=\"data row8 col7\" >0.4538</td>\n",
       "      <td id=\"T_e3f1d_row8_col8\" class=\"data row8 col8\" >0.1690</td>\n",
       "    </tr>\n",
       "    <tr>\n",
       "      <th id=\"T_e3f1d_level0_row9\" class=\"row_heading level0 row9\" >knn</th>\n",
       "      <td id=\"T_e3f1d_row9_col0\" class=\"data row9 col0\" >K Neighbors Classifier</td>\n",
       "      <td id=\"T_e3f1d_row9_col1\" class=\"data row9 col1\" >0.7265</td>\n",
       "      <td id=\"T_e3f1d_row9_col2\" class=\"data row9 col2\" >0.7743</td>\n",
       "      <td id=\"T_e3f1d_row9_col3\" class=\"data row9 col3\" >0.6146</td>\n",
       "      <td id=\"T_e3f1d_row9_col4\" class=\"data row9 col4\" >0.6632</td>\n",
       "      <td id=\"T_e3f1d_row9_col5\" class=\"data row9 col5\" >0.6379</td>\n",
       "      <td id=\"T_e3f1d_row9_col6\" class=\"data row9 col6\" >0.4187</td>\n",
       "      <td id=\"T_e3f1d_row9_col7\" class=\"data row9 col7\" >0.4195</td>\n",
       "      <td id=\"T_e3f1d_row9_col8\" class=\"data row9 col8\" >0.2340</td>\n",
       "    </tr>\n",
       "    <tr>\n",
       "      <th id=\"T_e3f1d_level0_row10\" class=\"row_heading level0 row10\" >svm</th>\n",
       "      <td id=\"T_e3f1d_row10_col0\" class=\"data row10 col0\" >SVM - Linear Kernel</td>\n",
       "      <td id=\"T_e3f1d_row10_col1\" class=\"data row10 col1\" >0.6767</td>\n",
       "      <td id=\"T_e3f1d_row10_col2\" class=\"data row10 col2\" >0.0000</td>\n",
       "      <td id=\"T_e3f1d_row10_col3\" class=\"data row10 col3\" >0.2984</td>\n",
       "      <td id=\"T_e3f1d_row10_col4\" class=\"data row10 col4\" >0.4261</td>\n",
       "      <td id=\"T_e3f1d_row10_col5\" class=\"data row10 col5\" >0.3492</td>\n",
       "      <td id=\"T_e3f1d_row10_col6\" class=\"data row10 col6\" >0.2309</td>\n",
       "      <td id=\"T_e3f1d_row10_col7\" class=\"data row10 col7\" >0.2400</td>\n",
       "      <td id=\"T_e3f1d_row10_col8\" class=\"data row10 col8\" >0.2920</td>\n",
       "    </tr>\n",
       "    <tr>\n",
       "      <th id=\"T_e3f1d_level0_row11\" class=\"row_heading level0 row11\" >qda</th>\n",
       "      <td id=\"T_e3f1d_row11_col0\" class=\"data row11 col0\" >Quadratic Discriminant Analysis</td>\n",
       "      <td id=\"T_e3f1d_row11_col1\" class=\"data row11 col1\" >0.4989</td>\n",
       "      <td id=\"T_e3f1d_row11_col2\" class=\"data row11 col2\" >0.8019</td>\n",
       "      <td id=\"T_e3f1d_row11_col3\" class=\"data row11 col3\" >0.9824</td>\n",
       "      <td id=\"T_e3f1d_row11_col4\" class=\"data row11 col4\" >0.4383</td>\n",
       "      <td id=\"T_e3f1d_row11_col5\" class=\"data row11 col5\" >0.6061</td>\n",
       "      <td id=\"T_e3f1d_row11_col6\" class=\"data row11 col6\" >0.1390</td>\n",
       "      <td id=\"T_e3f1d_row11_col7\" class=\"data row11 col7\" >0.2527</td>\n",
       "      <td id=\"T_e3f1d_row11_col8\" class=\"data row11 col8\" >0.0930</td>\n",
       "    </tr>\n",
       "    <tr>\n",
       "      <th id=\"T_e3f1d_level0_row12\" class=\"row_heading level0 row12\" >nb</th>\n",
       "      <td id=\"T_e3f1d_row12_col0\" class=\"data row12 col0\" >Naive Bayes</td>\n",
       "      <td id=\"T_e3f1d_row12_col1\" class=\"data row12 col1\" >0.4854</td>\n",
       "      <td id=\"T_e3f1d_row12_col2\" class=\"data row12 col2\" >0.7929</td>\n",
       "      <td id=\"T_e3f1d_row12_col3\" class=\"data row12 col3\" >0.9860</td>\n",
       "      <td id=\"T_e3f1d_row12_col4\" class=\"data row12 col4\" >0.4318</td>\n",
       "      <td id=\"T_e3f1d_row12_col5\" class=\"data row12 col5\" >0.6006</td>\n",
       "      <td id=\"T_e3f1d_row12_col6\" class=\"data row12 col6\" >0.1212</td>\n",
       "      <td id=\"T_e3f1d_row12_col7\" class=\"data row12 col7\" >0.2360</td>\n",
       "      <td id=\"T_e3f1d_row12_col8\" class=\"data row12 col8\" >0.0830</td>\n",
       "    </tr>\n",
       "  </tbody>\n",
       "</table>\n"
      ],
      "text/plain": [
       "<pandas.io.formats.style.Styler at 0x1dc9a640940>"
      ]
     },
     "metadata": {},
     "output_type": "display_data"
    }
   ],
   "source": [
    "best = compare_models()"
   ]
  },
  {
   "cell_type": "code",
   "execution_count": 74,
   "id": "ea85872a",
   "metadata": {
    "hidden": true
   },
   "outputs": [
    {
     "data": {
      "text/html": [
       "<style type=\"text/css\">\n",
       "#T_72708_row10_col0, #T_72708_row10_col1, #T_72708_row10_col2, #T_72708_row10_col3, #T_72708_row10_col4, #T_72708_row10_col5, #T_72708_row10_col6 {\n",
       "  background: yellow;\n",
       "}\n",
       "</style>\n",
       "<table id=\"T_72708_\">\n",
       "  <thead>\n",
       "    <tr>\n",
       "      <th class=\"blank level0\" >&nbsp;</th>\n",
       "      <th class=\"col_heading level0 col0\" >Accuracy</th>\n",
       "      <th class=\"col_heading level0 col1\" >AUC</th>\n",
       "      <th class=\"col_heading level0 col2\" >Recall</th>\n",
       "      <th class=\"col_heading level0 col3\" >Prec.</th>\n",
       "      <th class=\"col_heading level0 col4\" >F1</th>\n",
       "      <th class=\"col_heading level0 col5\" >Kappa</th>\n",
       "      <th class=\"col_heading level0 col6\" >MCC</th>\n",
       "    </tr>\n",
       "  </thead>\n",
       "  <tbody>\n",
       "    <tr>\n",
       "      <th id=\"T_72708_level0_row0\" class=\"row_heading level0 row0\" >0</th>\n",
       "      <td id=\"T_72708_row0_col0\" class=\"data row0 col0\" >0.8179</td>\n",
       "      <td id=\"T_72708_row0_col1\" class=\"data row0 col1\" >0.8971</td>\n",
       "      <td id=\"T_72708_row0_col2\" class=\"data row0 col2\" >0.7242</td>\n",
       "      <td id=\"T_72708_row0_col3\" class=\"data row0 col3\" >0.7931</td>\n",
       "      <td id=\"T_72708_row0_col4\" class=\"data row0 col4\" >0.7571</td>\n",
       "      <td id=\"T_72708_row0_col5\" class=\"data row0 col5\" >0.6119</td>\n",
       "      <td id=\"T_72708_row0_col6\" class=\"data row0 col6\" >0.6136</td>\n",
       "    </tr>\n",
       "    <tr>\n",
       "      <th id=\"T_72708_level0_row1\" class=\"row_heading level0 row1\" >1</th>\n",
       "      <td id=\"T_72708_row1_col0\" class=\"data row1 col0\" >0.8147</td>\n",
       "      <td id=\"T_72708_row1_col1\" class=\"data row1 col1\" >0.8919</td>\n",
       "      <td id=\"T_72708_row1_col2\" class=\"data row1 col2\" >0.7323</td>\n",
       "      <td id=\"T_72708_row1_col3\" class=\"data row1 col3\" >0.7812</td>\n",
       "      <td id=\"T_72708_row1_col4\" class=\"data row1 col4\" >0.7560</td>\n",
       "      <td id=\"T_72708_row1_col5\" class=\"data row1 col5\" >0.6069</td>\n",
       "      <td id=\"T_72708_row1_col6\" class=\"data row1 col6\" >0.6077</td>\n",
       "    </tr>\n",
       "    <tr>\n",
       "      <th id=\"T_72708_level0_row2\" class=\"row_heading level0 row2\" >2</th>\n",
       "      <td id=\"T_72708_row2_col0\" class=\"data row2 col0\" >0.8250</td>\n",
       "      <td id=\"T_72708_row2_col1\" class=\"data row2 col1\" >0.8959</td>\n",
       "      <td id=\"T_72708_row2_col2\" class=\"data row2 col2\" >0.7596</td>\n",
       "      <td id=\"T_72708_row2_col3\" class=\"data row2 col3\" >0.7866</td>\n",
       "      <td id=\"T_72708_row2_col4\" class=\"data row2 col4\" >0.7729</td>\n",
       "      <td id=\"T_72708_row2_col5\" class=\"data row2 col5\" >0.6306</td>\n",
       "      <td id=\"T_72708_row2_col6\" class=\"data row2 col6\" >0.6309</td>\n",
       "    </tr>\n",
       "    <tr>\n",
       "      <th id=\"T_72708_level0_row3\" class=\"row_heading level0 row3\" >3</th>\n",
       "      <td id=\"T_72708_row3_col0\" class=\"data row3 col0\" >0.8262</td>\n",
       "      <td id=\"T_72708_row3_col1\" class=\"data row3 col1\" >0.8960</td>\n",
       "      <td id=\"T_72708_row3_col2\" class=\"data row3 col2\" >0.7606</td>\n",
       "      <td id=\"T_72708_row3_col3\" class=\"data row3 col3\" >0.7885</td>\n",
       "      <td id=\"T_72708_row3_col4\" class=\"data row3 col4\" >0.7743</td>\n",
       "      <td id=\"T_72708_row3_col5\" class=\"data row3 col5\" >0.6331</td>\n",
       "      <td id=\"T_72708_row3_col6\" class=\"data row3 col6\" >0.6333</td>\n",
       "    </tr>\n",
       "    <tr>\n",
       "      <th id=\"T_72708_level0_row4\" class=\"row_heading level0 row4\" >4</th>\n",
       "      <td id=\"T_72708_row4_col0\" class=\"data row4 col0\" >0.8258</td>\n",
       "      <td id=\"T_72708_row4_col1\" class=\"data row4 col1\" >0.9011</td>\n",
       "      <td id=\"T_72708_row4_col2\" class=\"data row4 col2\" >0.7465</td>\n",
       "      <td id=\"T_72708_row4_col3\" class=\"data row4 col3\" >0.7963</td>\n",
       "      <td id=\"T_72708_row4_col4\" class=\"data row4 col4\" >0.7706</td>\n",
       "      <td id=\"T_72708_row4_col5\" class=\"data row4 col5\" >0.6304</td>\n",
       "      <td id=\"T_72708_row4_col6\" class=\"data row4 col6\" >0.6313</td>\n",
       "    </tr>\n",
       "    <tr>\n",
       "      <th id=\"T_72708_level0_row5\" class=\"row_heading level0 row5\" >5</th>\n",
       "      <td id=\"T_72708_row5_col0\" class=\"data row5 col0\" >0.8131</td>\n",
       "      <td id=\"T_72708_row5_col1\" class=\"data row5 col1\" >0.8850</td>\n",
       "      <td id=\"T_72708_row5_col2\" class=\"data row5 col2\" >0.7283</td>\n",
       "      <td id=\"T_72708_row5_col3\" class=\"data row5 col3\" >0.7803</td>\n",
       "      <td id=\"T_72708_row5_col4\" class=\"data row5 col4\" >0.7534</td>\n",
       "      <td id=\"T_72708_row5_col5\" class=\"data row5 col5\" >0.6033</td>\n",
       "      <td id=\"T_72708_row5_col6\" class=\"data row5 col6\" >0.6042</td>\n",
       "    </tr>\n",
       "    <tr>\n",
       "      <th id=\"T_72708_level0_row6\" class=\"row_heading level0 row6\" >6</th>\n",
       "      <td id=\"T_72708_row6_col0\" class=\"data row6 col0\" >0.8195</td>\n",
       "      <td id=\"T_72708_row6_col1\" class=\"data row6 col1\" >0.8935</td>\n",
       "      <td id=\"T_72708_row6_col2\" class=\"data row6 col2\" >0.7437</td>\n",
       "      <td id=\"T_72708_row6_col3\" class=\"data row6 col3\" >0.7849</td>\n",
       "      <td id=\"T_72708_row6_col4\" class=\"data row6 col4\" >0.7637</td>\n",
       "      <td id=\"T_72708_row6_col5\" class=\"data row6 col5\" >0.6178</td>\n",
       "      <td id=\"T_72708_row6_col6\" class=\"data row6 col6\" >0.6184</td>\n",
       "    </tr>\n",
       "    <tr>\n",
       "      <th id=\"T_72708_level0_row7\" class=\"row_heading level0 row7\" >7</th>\n",
       "      <td id=\"T_72708_row7_col0\" class=\"data row7 col0\" >0.8294</td>\n",
       "      <td id=\"T_72708_row7_col1\" class=\"data row7 col1\" >0.8997</td>\n",
       "      <td id=\"T_72708_row7_col2\" class=\"data row7 col2\" >0.7568</td>\n",
       "      <td id=\"T_72708_row7_col3\" class=\"data row7 col3\" >0.7979</td>\n",
       "      <td id=\"T_72708_row7_col4\" class=\"data row7 col4\" >0.7768</td>\n",
       "      <td id=\"T_72708_row7_col5\" class=\"data row7 col5\" >0.6389</td>\n",
       "      <td id=\"T_72708_row7_col6\" class=\"data row7 col6\" >0.6394</td>\n",
       "    </tr>\n",
       "    <tr>\n",
       "      <th id=\"T_72708_level0_row8\" class=\"row_heading level0 row8\" >8</th>\n",
       "      <td id=\"T_72708_row8_col0\" class=\"data row8 col0\" >0.8191</td>\n",
       "      <td id=\"T_72708_row8_col1\" class=\"data row8 col1\" >0.8904</td>\n",
       "      <td id=\"T_72708_row8_col2\" class=\"data row8 col2\" >0.7427</td>\n",
       "      <td id=\"T_72708_row8_col3\" class=\"data row8 col3\" >0.7846</td>\n",
       "      <td id=\"T_72708_row8_col4\" class=\"data row8 col4\" >0.7631</td>\n",
       "      <td id=\"T_72708_row8_col5\" class=\"data row8 col5\" >0.6169</td>\n",
       "      <td id=\"T_72708_row8_col6\" class=\"data row8 col6\" >0.6175</td>\n",
       "    </tr>\n",
       "    <tr>\n",
       "      <th id=\"T_72708_level0_row9\" class=\"row_heading level0 row9\" >9</th>\n",
       "      <td id=\"T_72708_row9_col0\" class=\"data row9 col0\" >0.8116</td>\n",
       "      <td id=\"T_72708_row9_col1\" class=\"data row9 col1\" >0.8887</td>\n",
       "      <td id=\"T_72708_row9_col2\" class=\"data row9 col2\" >0.7356</td>\n",
       "      <td id=\"T_72708_row9_col3\" class=\"data row9 col3\" >0.7731</td>\n",
       "      <td id=\"T_72708_row9_col4\" class=\"data row9 col4\" >0.7539</td>\n",
       "      <td id=\"T_72708_row9_col5\" class=\"data row9 col5\" >0.6014</td>\n",
       "      <td id=\"T_72708_row9_col6\" class=\"data row9 col6\" >0.6019</td>\n",
       "    </tr>\n",
       "    <tr>\n",
       "      <th id=\"T_72708_level0_row10\" class=\"row_heading level0 row10\" >Mean</th>\n",
       "      <td id=\"T_72708_row10_col0\" class=\"data row10 col0\" >0.8202</td>\n",
       "      <td id=\"T_72708_row10_col1\" class=\"data row10 col1\" >0.8939</td>\n",
       "      <td id=\"T_72708_row10_col2\" class=\"data row10 col2\" >0.7430</td>\n",
       "      <td id=\"T_72708_row10_col3\" class=\"data row10 col3\" >0.7867</td>\n",
       "      <td id=\"T_72708_row10_col4\" class=\"data row10 col4\" >0.7642</td>\n",
       "      <td id=\"T_72708_row10_col5\" class=\"data row10 col5\" >0.6191</td>\n",
       "      <td id=\"T_72708_row10_col6\" class=\"data row10 col6\" >0.6198</td>\n",
       "    </tr>\n",
       "    <tr>\n",
       "      <th id=\"T_72708_level0_row11\" class=\"row_heading level0 row11\" >SD</th>\n",
       "      <td id=\"T_72708_row11_col0\" class=\"data row11 col0\" >0.0058</td>\n",
       "      <td id=\"T_72708_row11_col1\" class=\"data row11 col1\" >0.0048</td>\n",
       "      <td id=\"T_72708_row11_col2\" class=\"data row11 col2\" >0.0124</td>\n",
       "      <td id=\"T_72708_row11_col3\" class=\"data row11 col3\" >0.0073</td>\n",
       "      <td id=\"T_72708_row11_col4\" class=\"data row11 col4\" >0.0085</td>\n",
       "      <td id=\"T_72708_row11_col5\" class=\"data row11 col5\" >0.0127</td>\n",
       "      <td id=\"T_72708_row11_col6\" class=\"data row11 col6\" >0.0126</td>\n",
       "    </tr>\n",
       "  </tbody>\n",
       "</table>\n"
      ],
      "text/plain": [
       "<pandas.io.formats.style.Styler at 0x1dc98aeca00>"
      ]
     },
     "metadata": {},
     "output_type": "display_data"
    }
   ],
   "source": [
    "cat = create_model('catboost', fold=10)"
   ]
  },
  {
   "cell_type": "markdown",
   "id": "fd78940b",
   "metadata": {
    "hidden": true
   },
   "source": [
    "### Accuracy"
   ]
  },
  {
   "cell_type": "code",
   "execution_count": 78,
   "id": "3b1b0eaf",
   "metadata": {
    "hidden": true
   },
   "outputs": [
    {
     "data": {
      "image/png": "[encoded data removed]",
      "text/plain": [
       "<Figure size 576x396 with 1 Axes>"
      ]
     },
     "metadata": {},
     "output_type": "display_data"
    }
   ],
   "source": [
    "plot_model(best)"
   ]
  },
  {
   "cell_type": "code",
   "execution_count": 79,
   "id": "68e88045",
   "metadata": {
    "hidden": true
   },
   "outputs": [
    {
     "data": {
      "application/vnd.jupyter.widget-view+json": {
       "model_id": "c0f42b6f253c42c0a5d99b018a80f258",
       "version_major": 2,
       "version_minor": 0
      },
      "text/plain": [
       "interactive(children=(ToggleButtons(description='Plot Type:', icons=('',), options=(('Hyperparameters', 'param…"
      ]
     },
     "metadata": {},
     "output_type": "display_data"
    }
   ],
   "source": [
    "evaluate_model(best)"
   ]
  },
  {
   "cell_type": "markdown",
   "id": "48b61847",
   "metadata": {
    "hidden": true
   },
   "source": [
    "### Predictions"
   ]
  },
  {
   "cell_type": "code",
   "execution_count": 75,
   "id": "04737b68",
   "metadata": {
    "hidden": true
   },
   "outputs": [],
   "source": [
    "test_pred = predict_model(cat, data = test)"
   ]
  },
  {
   "cell_type": "code",
   "execution_count": 76,
   "id": "05f9a1e2",
   "metadata": {
    "hidden": true
   },
   "outputs": [
    {
     "data": {
      "text/html": [
       "<div>\n",
       "<style scoped>\n",
       "    .dataframe tbody tr th:only-of-type {\n",
       "        vertical-align: middle;\n",
       "    }\n",
       "\n",
       "    .dataframe tbody tr th {\n",
       "        vertical-align: top;\n",
       "    }\n",
       "\n",
       "    .dataframe thead th {\n",
       "        text-align: right;\n",
       "    }\n",
       "</style>\n",
       "<table border=\"1\" class=\"dataframe\">\n",
       "  <thead>\n",
       "    <tr style=\"text-align: right;\">\n",
       "      <th></th>\n",
       "      <th>no_of_adults</th>\n",
       "      <th>no_of_children</th>\n",
       "      <th>no_of_weekend_nights</th>\n",
       "      <th>no_of_week_nights</th>\n",
       "      <th>type_of_meal_plan</th>\n",
       "      <th>required_car_parking_space</th>\n",
       "      <th>room_type_reserved</th>\n",
       "      <th>lead_time</th>\n",
       "      <th>arrival_year</th>\n",
       "      <th>arrival_month</th>\n",
       "      <th>arrival_date</th>\n",
       "      <th>market_segment_type</th>\n",
       "      <th>repeated_guest</th>\n",
       "      <th>no_of_previous_cancellations</th>\n",
       "      <th>no_of_previous_bookings_not_canceled</th>\n",
       "      <th>avg_price_per_room</th>\n",
       "      <th>no_of_special_requests</th>\n",
       "      <th>booking_status</th>\n",
       "      <th>Label</th>\n",
       "      <th>Score</th>\n",
       "    </tr>\n",
       "    <tr>\n",
       "      <th>id</th>\n",
       "      <th></th>\n",
       "      <th></th>\n",
       "      <th></th>\n",
       "      <th></th>\n",
       "      <th></th>\n",
       "      <th></th>\n",
       "      <th></th>\n",
       "      <th></th>\n",
       "      <th></th>\n",
       "      <th></th>\n",
       "      <th></th>\n",
       "      <th></th>\n",
       "      <th></th>\n",
       "      <th></th>\n",
       "      <th></th>\n",
       "      <th></th>\n",
       "      <th></th>\n",
       "      <th></th>\n",
       "      <th></th>\n",
       "      <th></th>\n",
       "    </tr>\n",
       "  </thead>\n",
       "  <tbody>\n",
       "    <tr>\n",
       "      <th>42100</th>\n",
       "      <td>3</td>\n",
       "      <td>0</td>\n",
       "      <td>1</td>\n",
       "      <td>4</td>\n",
       "      <td>0</td>\n",
       "      <td>0</td>\n",
       "      <td>1</td>\n",
       "      <td>111</td>\n",
       "      <td>2018</td>\n",
       "      <td>12</td>\n",
       "      <td>5</td>\n",
       "      <td>1</td>\n",
       "      <td>0</td>\n",
       "      <td>0</td>\n",
       "      <td>0</td>\n",
       "      <td>115.60</td>\n",
       "      <td>2</td>\n",
       "      <td>0</td>\n",
       "      <td>0</td>\n",
       "      <td>0.8840</td>\n",
       "    </tr>\n",
       "    <tr>\n",
       "      <th>42101</th>\n",
       "      <td>2</td>\n",
       "      <td>0</td>\n",
       "      <td>0</td>\n",
       "      <td>3</td>\n",
       "      <td>0</td>\n",
       "      <td>0</td>\n",
       "      <td>0</td>\n",
       "      <td>22</td>\n",
       "      <td>2017</td>\n",
       "      <td>10</td>\n",
       "      <td>21</td>\n",
       "      <td>0</td>\n",
       "      <td>0</td>\n",
       "      <td>0</td>\n",
       "      <td>0</td>\n",
       "      <td>85.00</td>\n",
       "      <td>0</td>\n",
       "      <td>0</td>\n",
       "      <td>0</td>\n",
       "      <td>0.9295</td>\n",
       "    </tr>\n",
       "    <tr>\n",
       "      <th>42102</th>\n",
       "      <td>2</td>\n",
       "      <td>2</td>\n",
       "      <td>0</td>\n",
       "      <td>1</td>\n",
       "      <td>0</td>\n",
       "      <td>0</td>\n",
       "      <td>3</td>\n",
       "      <td>18</td>\n",
       "      <td>2018</td>\n",
       "      <td>8</td>\n",
       "      <td>10</td>\n",
       "      <td>1</td>\n",
       "      <td>0</td>\n",
       "      <td>0</td>\n",
       "      <td>0</td>\n",
       "      <td>240.00</td>\n",
       "      <td>1</td>\n",
       "      <td>0</td>\n",
       "      <td>0</td>\n",
       "      <td>0.6488</td>\n",
       "    </tr>\n",
       "    <tr>\n",
       "      <th>42103</th>\n",
       "      <td>2</td>\n",
       "      <td>0</td>\n",
       "      <td>0</td>\n",
       "      <td>3</td>\n",
       "      <td>0</td>\n",
       "      <td>0</td>\n",
       "      <td>0</td>\n",
       "      <td>88</td>\n",
       "      <td>2018</td>\n",
       "      <td>5</td>\n",
       "      <td>30</td>\n",
       "      <td>0</td>\n",
       "      <td>0</td>\n",
       "      <td>0</td>\n",
       "      <td>0</td>\n",
       "      <td>80.75</td>\n",
       "      <td>0</td>\n",
       "      <td>0</td>\n",
       "      <td>0</td>\n",
       "      <td>0.9074</td>\n",
       "    </tr>\n",
       "    <tr>\n",
       "      <th>42104</th>\n",
       "      <td>1</td>\n",
       "      <td>0</td>\n",
       "      <td>0</td>\n",
       "      <td>2</td>\n",
       "      <td>2</td>\n",
       "      <td>0</td>\n",
       "      <td>0</td>\n",
       "      <td>7</td>\n",
       "      <td>2018</td>\n",
       "      <td>9</td>\n",
       "      <td>21</td>\n",
       "      <td>1</td>\n",
       "      <td>0</td>\n",
       "      <td>0</td>\n",
       "      <td>0</td>\n",
       "      <td>144.00</td>\n",
       "      <td>0</td>\n",
       "      <td>1</td>\n",
       "      <td>1</td>\n",
       "      <td>0.5485</td>\n",
       "    </tr>\n",
       "    <tr>\n",
       "      <th>...</th>\n",
       "      <td>...</td>\n",
       "      <td>...</td>\n",
       "      <td>...</td>\n",
       "      <td>...</td>\n",
       "      <td>...</td>\n",
       "      <td>...</td>\n",
       "      <td>...</td>\n",
       "      <td>...</td>\n",
       "      <td>...</td>\n",
       "      <td>...</td>\n",
       "      <td>...</td>\n",
       "      <td>...</td>\n",
       "      <td>...</td>\n",
       "      <td>...</td>\n",
       "      <td>...</td>\n",
       "      <td>...</td>\n",
       "      <td>...</td>\n",
       "      <td>...</td>\n",
       "      <td>...</td>\n",
       "      <td>...</td>\n",
       "    </tr>\n",
       "    <tr>\n",
       "      <th>70163</th>\n",
       "      <td>2</td>\n",
       "      <td>0</td>\n",
       "      <td>1</td>\n",
       "      <td>2</td>\n",
       "      <td>0</td>\n",
       "      <td>0</td>\n",
       "      <td>0</td>\n",
       "      <td>315</td>\n",
       "      <td>2018</td>\n",
       "      <td>9</td>\n",
       "      <td>30</td>\n",
       "      <td>1</td>\n",
       "      <td>0</td>\n",
       "      <td>0</td>\n",
       "      <td>0</td>\n",
       "      <td>160.00</td>\n",
       "      <td>0</td>\n",
       "      <td>1</td>\n",
       "      <td>1</td>\n",
       "      <td>0.9319</td>\n",
       "    </tr>\n",
       "    <tr>\n",
       "      <th>70164</th>\n",
       "      <td>2</td>\n",
       "      <td>0</td>\n",
       "      <td>2</td>\n",
       "      <td>2</td>\n",
       "      <td>0</td>\n",
       "      <td>0</td>\n",
       "      <td>0</td>\n",
       "      <td>81</td>\n",
       "      <td>2018</td>\n",
       "      <td>3</td>\n",
       "      <td>25</td>\n",
       "      <td>0</td>\n",
       "      <td>0</td>\n",
       "      <td>0</td>\n",
       "      <td>0</td>\n",
       "      <td>65.00</td>\n",
       "      <td>1</td>\n",
       "      <td>0</td>\n",
       "      <td>0</td>\n",
       "      <td>0.9698</td>\n",
       "    </tr>\n",
       "    <tr>\n",
       "      <th>70165</th>\n",
       "      <td>2</td>\n",
       "      <td>0</td>\n",
       "      <td>1</td>\n",
       "      <td>2</td>\n",
       "      <td>0</td>\n",
       "      <td>0</td>\n",
       "      <td>0</td>\n",
       "      <td>40</td>\n",
       "      <td>2018</td>\n",
       "      <td>10</td>\n",
       "      <td>22</td>\n",
       "      <td>0</td>\n",
       "      <td>0</td>\n",
       "      <td>0</td>\n",
       "      <td>0</td>\n",
       "      <td>85.00</td>\n",
       "      <td>0</td>\n",
       "      <td>0</td>\n",
       "      <td>0</td>\n",
       "      <td>0.8939</td>\n",
       "    </tr>\n",
       "    <tr>\n",
       "      <th>70166</th>\n",
       "      <td>3</td>\n",
       "      <td>0</td>\n",
       "      <td>0</td>\n",
       "      <td>4</td>\n",
       "      <td>0</td>\n",
       "      <td>0</td>\n",
       "      <td>1</td>\n",
       "      <td>4</td>\n",
       "      <td>2018</td>\n",
       "      <td>9</td>\n",
       "      <td>6</td>\n",
       "      <td>1</td>\n",
       "      <td>0</td>\n",
       "      <td>0</td>\n",
       "      <td>0</td>\n",
       "      <td>162.75</td>\n",
       "      <td>0</td>\n",
       "      <td>1</td>\n",
       "      <td>0</td>\n",
       "      <td>0.5098</td>\n",
       "    </tr>\n",
       "    <tr>\n",
       "      <th>70167</th>\n",
       "      <td>2</td>\n",
       "      <td>0</td>\n",
       "      <td>2</td>\n",
       "      <td>3</td>\n",
       "      <td>0</td>\n",
       "      <td>0</td>\n",
       "      <td>0</td>\n",
       "      <td>191</td>\n",
       "      <td>2018</td>\n",
       "      <td>8</td>\n",
       "      <td>28</td>\n",
       "      <td>1</td>\n",
       "      <td>0</td>\n",
       "      <td>0</td>\n",
       "      <td>0</td>\n",
       "      <td>84.31</td>\n",
       "      <td>0</td>\n",
       "      <td>1</td>\n",
       "      <td>1</td>\n",
       "      <td>0.8762</td>\n",
       "    </tr>\n",
       "  </tbody>\n",
       "</table>\n",
       "<p>28068 rows × 20 columns</p>\n",
       "</div>"
      ],
      "text/plain": [
       "       no_of_adults  no_of_children  no_of_weekend_nights  no_of_week_nights  \\\n",
       "id                                                                             \n",
       "42100             3               0                     1                  4   \n",
       "42101             2               0                     0                  3   \n",
       "42102             2               2                     0                  1   \n",
       "42103             2               0                     0                  3   \n",
       "42104             1               0                     0                  2   \n",
       "...             ...             ...                   ...                ...   \n",
       "70163             2               0                     1                  2   \n",
       "70164             2               0                     2                  2   \n",
       "70165             2               0                     1                  2   \n",
       "70166             3               0                     0                  4   \n",
       "70167             2               0                     2                  3   \n",
       "\n",
       "       type_of_meal_plan  required_car_parking_space  room_type_reserved  \\\n",
       "id                                                                         \n",
       "42100                  0                           0                   1   \n",
       "42101                  0                           0                   0   \n",
       "42102                  0                           0                   3   \n",
       "42103                  0                           0                   0   \n",
       "42104                  2                           0                   0   \n",
       "...                  ...                         ...                 ...   \n",
       "70163                  0                           0                   0   \n",
       "70164                  0                           0                   0   \n",
       "70165                  0                           0                   0   \n",
       "70166                  0                           0                   1   \n",
       "70167                  0                           0                   0   \n",
       "\n",
       "       lead_time  arrival_year  arrival_month  arrival_date  \\\n",
       "id                                                            \n",
       "42100        111          2018             12             5   \n",
       "42101         22          2017             10            21   \n",
       "42102         18          2018              8            10   \n",
       "42103         88          2018              5            30   \n",
       "42104          7          2018              9            21   \n",
       "...          ...           ...            ...           ...   \n",
       "70163        315          2018              9            30   \n",
       "70164         81          2018              3            25   \n",
       "70165         40          2018             10            22   \n",
       "70166          4          2018              9             6   \n",
       "70167        191          2018              8            28   \n",
       "\n",
       "       market_segment_type  repeated_guest  no_of_previous_cancellations  \\\n",
       "id                                                                         \n",
       "42100                    1               0                             0   \n",
       "42101                    0               0                             0   \n",
       "42102                    1               0                             0   \n",
       "42103                    0               0                             0   \n",
       "42104                    1               0                             0   \n",
       "...                    ...             ...                           ...   \n",
       "70163                    1               0                             0   \n",
       "70164                    0               0                             0   \n",
       "70165                    0               0                             0   \n",
       "70166                    1               0                             0   \n",
       "70167                    1               0                             0   \n",
       "\n",
       "       no_of_previous_bookings_not_canceled  avg_price_per_room  \\\n",
       "id                                                                \n",
       "42100                                     0              115.60   \n",
       "42101                                     0               85.00   \n",
       "42102                                     0              240.00   \n",
       "42103                                     0               80.75   \n",
       "42104                                     0              144.00   \n",
       "...                                     ...                 ...   \n",
       "70163                                     0              160.00   \n",
       "70164                                     0               65.00   \n",
       "70165                                     0               85.00   \n",
       "70166                                     0              162.75   \n",
       "70167                                     0               84.31   \n",
       "\n",
       "       no_of_special_requests  booking_status  Label   Score  \n",
       "id                                                            \n",
       "42100                       2               0      0  0.8840  \n",
       "42101                       0               0      0  0.9295  \n",
       "42102                       1               0      0  0.6488  \n",
       "42103                       0               0      0  0.9074  \n",
       "42104                       0               1      1  0.5485  \n",
       "...                       ...             ...    ...     ...  \n",
       "70163                       0               1      1  0.9319  \n",
       "70164                       1               0      0  0.9698  \n",
       "70165                       0               0      0  0.8939  \n",
       "70166                       0               1      0  0.5098  \n",
       "70167                       0               1      1  0.8762  \n",
       "\n",
       "[28068 rows x 20 columns]"
      ]
     },
     "execution_count": 76,
     "metadata": {},
     "output_type": "execute_result"
    }
   ],
   "source": [
    "test_pred"
   ]
  },
  {
   "cell_type": "code",
   "execution_count": 77,
   "id": "9fa7bd7c",
   "metadata": {
    "hidden": true
   },
   "outputs": [],
   "source": [
    "# test_pred.to_csv('pycaret_pred.csv')"
   ]
  },
  {
   "cell_type": "code",
   "execution_count": null,
   "id": "012ded2b",
   "metadata": {
    "hidden": true
   },
   "outputs": [],
   "source": []
  }
 ],
 "metadata": {
  "kernelspec": {
   "display_name": "Python 3 (ipykernel)",
   "language": "python",
   "name": "python3"
  },
  "language_info": {
   "codemirror_mode": {
    "name": "ipython",
    "version": 3
   },
   "file_extension": ".py",
   "mimetype": "text/x-python",
   "name": "python",
   "nbconvert_exporter": "python",
   "pygments_lexer": "ipython3",
   "version": "3.11.2"
  }
 },
 "nbformat": 4,
 "nbformat_minor": 5
}
